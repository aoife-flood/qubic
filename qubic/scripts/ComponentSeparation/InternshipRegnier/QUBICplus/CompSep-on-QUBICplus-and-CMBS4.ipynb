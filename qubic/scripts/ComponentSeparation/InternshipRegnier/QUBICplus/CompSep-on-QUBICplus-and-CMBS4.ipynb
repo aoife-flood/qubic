{
 "cells": [
  {
   "cell_type": "markdown",
   "id": "contained-pavilion",
   "metadata": {},
   "source": [
    "# Component Separation on CMB S4 and QUBIC+"
   ]
  },
  {
   "cell_type": "code",
   "execution_count": 2,
   "id": "preceding-fiction",
   "metadata": {},
   "outputs": [],
   "source": [
    "import qubicplus\n",
    "import CMBS4\n",
    "import pysm3\n",
    "import pysm3.units as u\n",
    "from pysm3 import utils\n",
    "import numpy as np\n",
    "from qubic import camb_interface as qc\n",
    "import healpy as hp\n",
    "import matplotlib.pyplot as plt\n",
    "import os\n",
    "import random as rd\n",
    "import string\n",
    "import qubic\n",
    "from importlib import reload\n",
    "import pickle\n",
    "import s4bi\n",
    "\n",
    "center = qubic.equ2gal(0, -57)\n",
    "# If there is not this command, the kernel shut down every time..\n",
    "os.environ['KMP_DUPLICATE_LIB_OK'] = 'True'\n",
    "\n",
    "nside=256\n",
    "def get_coverage(fsky, nside, center_radec=[0., -57.]):\n",
    "    center = qubic.equ2gal(center_radec[0], center_radec[1])\n",
    "    uvcenter = np.array(hp.ang2vec(center[0], center[1], lonlat=True))\n",
    "    uvpix = np.array(hp.pix2vec(nside, np.arange(12*nside**2)))\n",
    "    ang = np.arccos(np.dot(uvcenter, uvpix))\n",
    "    indices = np.argsort(ang)\n",
    "    okpix = ang < -1\n",
    "    okpix[indices[0:int(fsky * 12*nside**2)]] = True\n",
    "    mask = np.zeros(12*nside**2)\n",
    "    mask[okpix] = 1\n",
    "    return mask\n",
    "\n",
    "covmap_q = hp.ud_grade(hp.read_map('QUBIC-Typical-Coverage.fits'), 256)\n",
    "covmap = get_coverage(0.03, nside)\n",
    "skyconfig = {'cmb':42, 'dust':'d0'}\n",
    "\n",
    "thr = 0.1\n",
    "mymask = (covmap > (np.max(covmap)*thr)).astype(int)\n",
    "pixok = mymask > 0\n",
    "\n",
    "pkl_file = open('S4_dict.pkl', 'rb')\n",
    "S4_dict = pickle.load(pkl_file)\n",
    "pkl_file.close()\n",
    "\n",
    "pkl_file = open('BI_dict.pkl', 'rb')\n",
    "BI_dict = pickle.load(pkl_file)\n",
    "pkl_file.close()\n",
    "\n",
    "#from fgbuster import (separation_recipes, xForecast, CMB, Dust, Dust_2b, Synchrotron, FreeFree, PowerLaw,  # sky-fitting model\n",
    "                      #basic_comp_sep)\n",
    "import fgbuster as fgb\n",
    "from fgbuster import basic_comp_sep, get_instrument\n",
    "\n",
    "\n",
    "def separate(comp, instr, maps_to_separate, tol=1e-5, print_option=False):\n",
    "    solver_options = {}\n",
    "    solver_options['disp'] = False\n",
    "    fg_args = comp, instr, maps_to_separate\n",
    "    fg_kwargs = {'method': 'Nelder-Mead', 'tol': tol, 'options': solver_options}\n",
    "    try:\n",
    "        res = fgb.basic_comp_sep(*fg_args, **fg_kwargs)\n",
    "    except KeyError:\n",
    "        fg_kwargs['options']['disp'] = False\n",
    "        res = fgb.basic_comp_sep(*fg_args, **fg_kwargs)\n",
    "    if print_option:\n",
    "        print()\n",
    "        print(\"message:\", res.message)\n",
    "        print(\"success:\", res.success)\n",
    "        print(\"result:\", res.x)\n",
    "        \n",
    "    return res\n",
    "\n",
    "\n",
    "def reconvolve(maps, fwhms, ref_fwhm, verbose=False):\n",
    "    if verbose:\n",
    "        print('Reconvolution to common FWHM')\n",
    "    sig_conv = np.sqrt(ref_fwhm**2 - fwhms**2)\n",
    "    maps_out = np.zeros_like(maps)\n",
    "    for i in range(len(fwhms)):\n",
    "        if sig_conv[i] == 0:\n",
    "            if verbose:\n",
    "                print('Map {0:} fwhmin={1:6.3f} fwhmout={2:6.3f} => We do not reconvolve'.format(i,\n",
    "                                                                                             fwhms[i], ref_fwhm))\n",
    "            maps_out[i,:] = maps[i,:]\n",
    "        else:\n",
    "            if verbose:\n",
    "                print('Map {0:} fwhmin={1:6.3f} fwhmout={2:6.3f} => We reconvolve with {3:6.3f}'.format(i,\n",
    "                                                                                                    fwhms[i],\n",
    "                                                                                                    ref_fwhm,\n",
    "                                                                                                    sig_conv[i]))\n",
    "            maps_out[i,:] = hp.smoothing(maps[i,:], fwhm=np.deg2rad(sig_conv[i]), pol=True, verbose=False)\n",
    "    return maps_out"
   ]
  },
  {
   "cell_type": "markdown",
   "id": "public-incident",
   "metadata": {},
   "source": [
    "# CMB-S4 case"
   ]
  },
  {
   "cell_type": "code",
   "execution_count": 2,
   "id": "minor-steel",
   "metadata": {
    "scrolled": true
   },
   "outputs": [
    {
     "name": "stderr",
     "output_type": "stream",
     "text": [
      "/Users/mathiasregnier/miniconda3/lib/python3.8/site-packages/healpy/fitsfunc.py:197: FutureWarning: The default dtype of write_map() will change in a future version: explicitly set the dtype if it is important to you\n",
      "  warnings.warn(\n",
      "/Users/mathiasregnier/miniconda3/lib/python3.8/site-packages/pysm3/utils/data.py:37: UserWarning: Access data from /tmp/rcnnu297U8\n",
      "  warnings.warn(f\"Access data from {full_path}\")\n",
      "/Users/mathiasregnier/miniconda3/lib/python3.8/site-packages/pysm3/utils/data.py:42: UserWarning: Retrieve data for pysm_2/dust_t_new.fits (if not cached already)\n",
      "  warnings.warn(f\"Retrieve data for {filename} (if not cached already)\")\n",
      "/Users/mathiasregnier/miniconda3/lib/python3.8/site-packages/pysm3/utils/data.py:42: UserWarning: Retrieve data for pysm_2/dust_q_new.fits (if not cached already)\n",
      "  warnings.warn(f\"Retrieve data for {filename} (if not cached already)\")\n",
      "/Users/mathiasregnier/miniconda3/lib/python3.8/site-packages/pysm3/utils/data.py:42: UserWarning: Retrieve data for pysm_2/dust_u_new.fits (if not cached already)\n",
      "  warnings.warn(f\"Retrieve data for {filename} (if not cached already)\")\n"
     ]
    },
    {
     "name": "stdout",
     "output_type": "stream",
     "text": [
      "    FWHM : [1. 1. 1. 1. 1. 1. 1. 1. 1.] deg \n",
      "    nus : [ 20.  30.  40.  85.  95. 145. 155. 220. 270.] GHz \n",
      "    Bandwidth : [ 5.   9.  12.  20.4 22.8 31.9 34.1 48.4 59.4] GHz\n",
      "\n",
      "\n",
      "Reconvolution to 1.00 deg\n",
      "Reconvolution to 1.00 deg\n",
      "Reconvolution to 1.00 deg\n",
      "Reconvolution to 1.00 deg\n",
      "Reconvolution to 1.00 deg\n",
      "Reconvolution to 1.00 deg\n",
      "Reconvolution to 1.00 deg\n",
      "Reconvolution to 1.00 deg\n",
      "Reconvolution to 1.00 deg\n"
     ]
    }
   ],
   "source": [
    "reload(qubicplus)\n",
    "reload(CMBS4)\n",
    "\n",
    "ref_fwhm=1\n",
    "\n",
    "# Computation of maps for CMB-S4 -> (9, 3, npix)\n",
    "\n",
    "## We put maps at same resolution (0.5 degree) and with noise factor of 10\n",
    "\n",
    "mapS4_noisy_withoutiib, mapS4_noiseless_withoutiib, noiseS4_withoutiib = CMBS4.S4(skyconfig, S4_dict).getskymaps(\n",
    "                                                                    same_resol=ref_fwhm, \n",
    "                                                                    iib=False, \n",
    "                                                                    verbose=True, \n",
    "                                                                    coverage=covmap, \n",
    "                                                                    noise=True, \n",
    "                                                                    signoise=1.)\n",
    "\n",
    "#mapS4_noisy_withiib, mapS4_noiseless_withiib, noiseS4_withiib = CMBS4.S4(skyconfig, S4_dict).getskymaps(\n",
    "#                                                                    same_resol=ref_fwhm, \n",
    "#                                                                    iib=True, \n",
    "#                                                                    verbose=True, \n",
    "#                                                                    coverage=covmap, \n",
    "#                                                                    noise=True, \n",
    "#                                                                    signoise=10.)"
   ]
  },
  {
   "cell_type": "markdown",
   "id": "mounted-recording",
   "metadata": {},
   "source": [
    "# QUBIC+ case"
   ]
  },
  {
   "cell_type": "code",
   "execution_count": 3,
   "id": "violent-hacker",
   "metadata": {
    "scrolled": true
   },
   "outputs": [
    {
     "name": "stderr",
     "output_type": "stream",
     "text": [
      "/Users/mathiasregnier/miniconda3/lib/python3.8/site-packages/healpy/fitsfunc.py:197: FutureWarning: The default dtype of write_map() will change in a future version: explicitly set the dtype if it is important to you\n",
      "  warnings.warn(\n",
      "/Users/mathiasregnier/miniconda3/lib/python3.8/site-packages/pysm3/utils/data.py:37: UserWarning: Access data from /tmp/E67bxHQTMH\n",
      "  warnings.warn(f\"Access data from {full_path}\")\n",
      "/Users/mathiasregnier/miniconda3/lib/python3.8/site-packages/pysm3/utils/data.py:42: UserWarning: Retrieve data for pysm_2/dust_t_new.fits (if not cached already)\n",
      "  warnings.warn(f\"Retrieve data for {filename} (if not cached already)\")\n",
      "/Users/mathiasregnier/miniconda3/lib/python3.8/site-packages/pysm3/utils/data.py:42: UserWarning: Retrieve data for pysm_2/dust_q_new.fits (if not cached already)\n",
      "  warnings.warn(f\"Retrieve data for {filename} (if not cached already)\")\n",
      "/Users/mathiasregnier/miniconda3/lib/python3.8/site-packages/pysm3/utils/data.py:42: UserWarning: Retrieve data for pysm_2/dust_u_new.fits (if not cached already)\n",
      "  warnings.warn(f\"Retrieve data for {filename} (if not cached already)\")\n"
     ]
    },
    {
     "name": "stdout",
     "output_type": "stream",
     "text": [
      "    FWHM : [1. 1. 1. 1. 1. 1. 1. 1. 1. 1. 1. 1. 1. 1. 1. 1. 1. 1. 1. 1. 1. 1. 1. 1.\n",
      " 1. 1. 1. 1. 1. 1. 1. 1. 1. 1. 1. 1. 1. 1. 1. 1. 1. 1. 1. 1. 1.] deg \n",
      "    nus : [ 18.    19.    20.    21.    22.    26.4   28.2   30.    31.8   33.6\n",
      "  35.2   37.6   40.    42.4   44.8   76.84  80.92  85.    89.08  93.16\n",
      "  85.88  90.44  95.    99.56 104.12 132.24 138.62 145.   151.38 157.76\n",
      " 141.36 148.18 155.   161.82 168.64 200.64 210.32 220.   229.68 239.36\n",
      " 246.24 258.12 270.   281.88 293.76] GHz \n",
      "    Bandwidth : [ 1.    1.    1.    1.    1.    1.8   1.8   1.8   1.8   1.8   2.4   2.4\n",
      "  2.4   2.4   2.4   4.08  4.08  4.08  4.08  4.08  4.56  4.56  4.56  4.56\n",
      "  4.56  6.38  6.38  6.38  6.38  6.38  6.82  6.82  6.82  6.82  6.82  9.68\n",
      "  9.68  9.68  9.68  9.68 11.88 11.88 11.88 11.88 11.88] GHz\n",
      "\n",
      "\n",
      "Reconvolution to 1.00 deg\n",
      "Reconvolution to 1.00 deg\n",
      "Reconvolution to 1.00 deg\n",
      "Reconvolution to 1.00 deg\n",
      "Reconvolution to 1.00 deg\n",
      "Reconvolution to 1.00 deg\n",
      "Reconvolution to 1.00 deg\n",
      "Reconvolution to 1.00 deg\n",
      "Reconvolution to 1.00 deg\n",
      "Reconvolution to 1.00 deg\n",
      "Reconvolution to 1.00 deg\n",
      "Reconvolution to 1.00 deg\n",
      "Reconvolution to 1.00 deg\n",
      "Reconvolution to 1.00 deg\n",
      "Reconvolution to 1.00 deg\n",
      "Reconvolution to 1.00 deg\n",
      "Reconvolution to 1.00 deg\n",
      "Reconvolution to 1.00 deg\n",
      "Reconvolution to 1.00 deg\n",
      "Reconvolution to 1.00 deg\n",
      "Reconvolution to 1.00 deg\n",
      "Reconvolution to 1.00 deg\n",
      "Reconvolution to 1.00 deg\n",
      "Reconvolution to 1.00 deg\n",
      "Reconvolution to 1.00 deg\n",
      "Reconvolution to 1.00 deg\n",
      "Reconvolution to 1.00 deg\n",
      "Reconvolution to 1.00 deg\n",
      "Reconvolution to 1.00 deg\n",
      "Reconvolution to 1.00 deg\n",
      "Reconvolution to 1.00 deg\n",
      "Reconvolution to 1.00 deg\n",
      "Reconvolution to 1.00 deg\n",
      "Reconvolution to 1.00 deg\n",
      "Reconvolution to 1.00 deg\n",
      "Reconvolution to 1.00 deg\n",
      "Reconvolution to 1.00 deg\n",
      "Reconvolution to 1.00 deg\n",
      "Reconvolution to 1.00 deg\n",
      "Reconvolution to 1.00 deg\n",
      "Reconvolution to 1.00 deg\n",
      "Reconvolution to 1.00 deg\n",
      "Reconvolution to 1.00 deg\n",
      "Reconvolution to 1.00 deg\n",
      "Reconvolution to 1.00 deg\n"
     ]
    }
   ],
   "source": [
    "mapqp_noisy_withoutiib, mapqp_noiseless_withoutiib, noiseqp_withoutiib = qubicplus.QUBICplus(skyconfig, BI_dict).getskymaps(\n",
    "                                                                    same_resol=ref_fwhm, \n",
    "                                                                    iib=False, \n",
    "                                                                    verbose=True, \n",
    "                                                                    coverage=covmap, \n",
    "                                                                    noise=True, \n",
    "                                                                    signoise=1.)\n",
    "\n",
    "#mapqp_noisy_withiib, mapqp_noiseless_withiib, noiseqp_withiib = qubicplus.QUBICplus(skyconfig, BI_dict).getskymaps(\n",
    "#                                                                    same_resol=ref_fwhm, \n",
    "#                                                                    iib=True, \n",
    "#                                                                    verbose=True, \n",
    "#                                                                    coverage=covmap, \n",
    "#                                                                    noise=True, \n",
    "#                                                                    signoise=10.)"
   ]
  },
  {
   "cell_type": "code",
   "execution_count": 10,
   "id": "substantial-large",
   "metadata": {},
   "outputs": [
    {
     "ename": "NameError",
     "evalue": "name 'ref_fwhm' is not defined",
     "output_type": "error",
     "traceback": [
      "\u001b[0;31m---------------------------------------------------------------------------\u001b[0m",
      "\u001b[0;31mNameError\u001b[0m                                 Traceback (most recent call last)",
      "\u001b[0;32m<ipython-input-10-20df9647f24c>\u001b[0m in \u001b[0;36m<module>\u001b[0;34m\u001b[0m\n\u001b[1;32m      7\u001b[0m \u001b[0;31m# QUBIC+\u001b[0m\u001b[0;34m\u001b[0m\u001b[0;34m\u001b[0m\u001b[0;34m\u001b[0m\u001b[0m\n\u001b[1;32m      8\u001b[0m \u001b[0minstr\u001b[0m \u001b[0;34m=\u001b[0m \u001b[0mget_instrument\u001b[0m\u001b[0;34m(\u001b[0m\u001b[0;34m'Qubic+'\u001b[0m\u001b[0;34m)\u001b[0m\u001b[0;34m\u001b[0m\u001b[0;34m\u001b[0m\u001b[0m\n\u001b[0;32m----> 9\u001b[0;31m \u001b[0minstr\u001b[0m\u001b[0;34m.\u001b[0m\u001b[0mfwhm\u001b[0m \u001b[0;34m=\u001b[0m \u001b[0mnp\u001b[0m\u001b[0;34m.\u001b[0m\u001b[0mones\u001b[0m\u001b[0;34m(\u001b[0m\u001b[0;36m45\u001b[0m\u001b[0;34m)\u001b[0m\u001b[0;34m*\u001b[0m\u001b[0mref_fwhm\u001b[0m\u001b[0;34m*\u001b[0m\u001b[0;36m60\u001b[0m\u001b[0;34m\u001b[0m\u001b[0;34m\u001b[0m\u001b[0m\n\u001b[0m\u001b[1;32m     10\u001b[0m \u001b[0;34m\u001b[0m\u001b[0m\n\u001b[1;32m     11\u001b[0m \u001b[0;34m\u001b[0m\u001b[0m\n",
      "\u001b[0;31mNameError\u001b[0m: name 'ref_fwhm' is not defined"
     ]
    }
   ],
   "source": [
    "comp = [Dust(nu0=150.), CMB()]\n",
    "\n",
    "thr = 0.1\n",
    "mymask = (covmap > (np.max(covmap)*thr)).astype(int)\n",
    "pixok = mymask > 0\n",
    "\n",
    "# QUBIC+\n",
    "instr = get_instrument('Qubic+')\n",
    "instr.fwhm = np.ones(45)*ref_fwhm*60\n",
    "\n",
    "\n",
    "r_qp_withoutiib=separate(comp, instr, mapqp_noisy_withoutiib[:, :, pixok], tol=1e-6)\n",
    "\n",
    "# CMB-S4\n",
    "instr = get_instrument('CMBS4')\n",
    "instr.fwhm = np.ones(9)*ref_fwhm*60\n",
    "r_s4_withoutiib=separate(comp, instr, mapS4_noisy_withoutiib[:, :, pixok], tol=1e-6)\n",
    "\n",
    "print('Without iib : \\n \\n')\n",
    "print('QUBIC+ -> beta_d = {:.6f} & T = {:.6f}'.format(r_qp_withoutiib.x[0], r_qp_withoutiib.x[1]))\n",
    "print('CMB-S4 -> beta_d = {:.6f} & T = {:.6f}'.format(r_s4_withoutiib.x[0], r_s4_withoutiib.x[1]))"
   ]
  },
  {
   "cell_type": "code",
   "execution_count": null,
   "id": "prime-momentum",
   "metadata": {
    "scrolled": false
   },
   "outputs": [],
   "source": []
  },
  {
   "cell_type": "code",
   "execution_count": null,
   "id": "stuck-coverage",
   "metadata": {},
   "outputs": [],
   "source": []
  },
  {
   "cell_type": "code",
   "execution_count": null,
   "id": "printable-conditioning",
   "metadata": {},
   "outputs": [],
   "source": []
  },
  {
   "cell_type": "code",
   "execution_count": null,
   "id": "conceptual-restriction",
   "metadata": {
    "scrolled": false
   },
   "outputs": [],
   "source": []
  },
  {
   "cell_type": "code",
   "execution_count": null,
   "id": "executed-explanation",
   "metadata": {},
   "outputs": [],
   "source": []
  },
  {
   "cell_type": "code",
   "execution_count": null,
   "id": "directed-essay",
   "metadata": {},
   "outputs": [],
   "source": []
  },
  {
   "cell_type": "code",
   "execution_count": null,
   "id": "comic-egypt",
   "metadata": {},
   "outputs": [],
   "source": []
  },
  {
   "cell_type": "code",
   "execution_count": null,
   "id": "rough-report",
   "metadata": {},
   "outputs": [],
   "source": []
  },
  {
   "cell_type": "code",
   "execution_count": null,
   "id": "hearing-genetics",
   "metadata": {},
   "outputs": [],
   "source": []
  },
  {
   "cell_type": "code",
   "execution_count": null,
   "id": "particular-patio",
   "metadata": {
    "scrolled": true
   },
   "outputs": [],
   "source": []
  },
  {
   "cell_type": "markdown",
   "id": "liquid-interval",
   "metadata": {},
   "source": [
    "# MC"
   ]
  },
  {
   "cell_type": "code",
   "execution_count": 5,
   "id": "unlikely-deposit",
   "metadata": {},
   "outputs": [
    {
     "name": "stderr",
     "output_type": "stream",
     "text": [
      "/Users/mathiasregnier/miniconda3/lib/python3.8/site-packages/healpy/fitsfunc.py:197: FutureWarning: The default dtype of write_map() will change in a future version: explicitly set the dtype if it is important to you\n",
      "  warnings.warn(\n",
      "/Users/mathiasregnier/miniconda3/lib/python3.8/site-packages/pysm3/utils/data.py:37: UserWarning: Access data from /tmp/vlDyqHIShT\n",
      "  warnings.warn(f\"Access data from {full_path}\")\n",
      "/Users/mathiasregnier/miniconda3/lib/python3.8/site-packages/pysm3/utils/data.py:42: UserWarning: Retrieve data for pysm_2/dust_t_new.fits (if not cached already)\n",
      "  warnings.warn(f\"Retrieve data for {filename} (if not cached already)\")\n",
      "/Users/mathiasregnier/miniconda3/lib/python3.8/site-packages/pysm3/utils/data.py:42: UserWarning: Retrieve data for pysm_2/dust_q_new.fits (if not cached already)\n",
      "  warnings.warn(f\"Retrieve data for {filename} (if not cached already)\")\n",
      "/Users/mathiasregnier/miniconda3/lib/python3.8/site-packages/pysm3/utils/data.py:42: UserWarning: Retrieve data for pysm_2/dust_u_new.fits (if not cached already)\n",
      "  warnings.warn(f\"Retrieve data for {filename} (if not cached already)\")\n"
     ]
    }
   ],
   "source": [
    "ref_fwhm=0.5\n",
    "\n",
    "def give_me_truemaps(config, nu0, ref_fwhm, pixok):\n",
    "    sky = qubicplus.QUBICplus(config, BI_dict).get_sky()\n",
    "    maps = sky.get_emission(nu0*u.GHz, None)*utils.bandpass_unit_conversion(nu0*u.GHz,None, u.uK_CMB)\n",
    "    maps = hp.sphtfunc.smoothing(maps, fwhm=np.deg2rad(ref_fwhm),verbose=False)\n",
    "    maps[:, ~pixok] = hp.UNSEEN\n",
    "    return maps\n",
    "    \n",
    "truecmb = give_me_truemaps({'cmb':42}, 150, ref_fwhm, pixok)\n",
    "truedust = give_me_truemaps({'dust':'d0'}, 150, ref_fwhm, pixok)"
   ]
  },
  {
   "cell_type": "code",
   "execution_count": 6,
   "id": "removed-petroleum",
   "metadata": {},
   "outputs": [],
   "source": [
    "import pickle\n",
    "\n",
    "rx_s4=np.zeros((2, 2000))\n",
    "rx_qp=np.zeros((2, 2000))\n",
    "\n",
    "\n",
    "with open('results/betatemp_estimation_seed42_2000reals.pkl', 'rb') as f:\n",
    "    data = pickle.load(f)\n",
    "    rx_s4[0, :] = data['r_x_s4'][0]\n",
    "    rx_s4[1, :] = data['r_x_s4'][1]\n",
    "    rx_qp[0, :] = data['r_x_qp'][0]\n",
    "    rx_qp[1, :] = data['r_x_qp'][1]"
   ]
  },
  {
   "cell_type": "code",
   "execution_count": 7,
   "id": "neither-premium",
   "metadata": {},
   "outputs": [
    {
     "data": {
      "image/png": "[encoded data removed]",
      "text/plain": [
       "<Figure size 1152x360 with 2 Axes>"
      ]
     },
     "metadata": {
      "needs_background": "light"
     },
     "output_type": "display_data"
    }
   ],
   "source": [
    "plt.figure(figsize=(16, 5))\n",
    "plt.subplot(1, 2, 1)\n",
    "plt.hist(rx_s4[0], bins=10, label = 'CMB-S4', histtype='step')\n",
    "plt.hist(rx_qp[0], bins=10, label='QUBIC+', histtype='step')\n",
    "\n",
    "\n",
    "plt.axvline(1.54, ls='--', color='black')\n",
    "plt.xlabel(r'$\\beta_d$', fontsize=20)\n",
    "plt.legend()\n",
    "\n",
    "plt.subplot(1, 2, 2)\n",
    "plt.hist(rx_s4[1], bins=10, label = 'CMB-S4', histtype='step')\n",
    "plt.hist(rx_qp[1], bins=10, label='QUBIC+', histtype='step')\n",
    "plt.axvline(20, ls='--', color='black')\n",
    "plt.legend()\n",
    "plt.xlabel('Temperature [K]', fontsize=20)\n",
    "\n",
    "plt.show()"
   ]
  },
  {
   "cell_type": "markdown",
   "id": "present-final",
   "metadata": {},
   "source": [
    "# With iib"
   ]
  },
  {
   "cell_type": "code",
   "execution_count": 8,
   "id": "conservative-petite",
   "metadata": {},
   "outputs": [
    {
     "name": "stderr",
     "output_type": "stream",
     "text": [
      "/Users/mathiasregnier/miniconda3/lib/python3.8/site-packages/healpy/fitsfunc.py:197: FutureWarning: The default dtype of write_map() will change in a future version: explicitly set the dtype if it is important to you\n",
      "  warnings.warn(\n",
      "/Users/mathiasregnier/miniconda3/lib/python3.8/site-packages/pysm3/utils/data.py:37: UserWarning: Access data from /tmp/gqDAdImloR\n",
      "  warnings.warn(f\"Access data from {full_path}\")\n",
      "/Users/mathiasregnier/miniconda3/lib/python3.8/site-packages/pysm3/utils/data.py:42: UserWarning: Retrieve data for pysm_2/dust_t_new.fits (if not cached already)\n",
      "  warnings.warn(f\"Retrieve data for {filename} (if not cached already)\")\n",
      "/Users/mathiasregnier/miniconda3/lib/python3.8/site-packages/pysm3/utils/data.py:42: UserWarning: Retrieve data for pysm_2/dust_q_new.fits (if not cached already)\n",
      "  warnings.warn(f\"Retrieve data for {filename} (if not cached already)\")\n",
      "/Users/mathiasregnier/miniconda3/lib/python3.8/site-packages/pysm3/utils/data.py:42: UserWarning: Retrieve data for pysm_2/dust_u_new.fits (if not cached already)\n",
      "  warnings.warn(f\"Retrieve data for {filename} (if not cached already)\")\n"
     ]
    },
    {
     "name": "stdout",
     "output_type": "stream",
     "text": [
      "    FWHM : [0.5 0.5 0.5 0.5 0.5 0.5 0.5 0.5 0.5] deg \n",
      "    nus : [ 20.  30.  40.  85.  95. 145. 155. 220. 270.] GHz \n",
      "    Bandwidth : [ 5.   9.  12.  20.4 22.8 31.9 34.1 48.4 59.4] GHz\n",
      "\n",
      "\n",
      "Integrated from 17.50 to 22.50 GHz\n",
      "Reconvolution to 0.50 deg\n",
      "Integrated from 25.50 to 34.50 GHz\n",
      "Reconvolution to 0.50 deg\n",
      "Integrated from 34.00 to 46.00 GHz\n",
      "Reconvolution to 0.50 deg\n",
      "Integrated from 74.80 to 95.20 GHz\n",
      "Reconvolution to 0.50 deg\n",
      "Integrated from 83.60 to 106.40 GHz\n",
      "Reconvolution to 0.50 deg\n",
      "Integrated from 129.05 to 160.95 GHz\n",
      "Reconvolution to 0.50 deg\n",
      "Integrated from 137.95 to 172.05 GHz\n",
      "Reconvolution to 0.50 deg\n",
      "Integrated from 195.80 to 244.20 GHz\n",
      "Reconvolution to 0.50 deg\n",
      "Integrated from 240.30 to 299.70 GHz\n",
      "Reconvolution to 0.50 deg\n"
     ]
    }
   ],
   "source": [
    "mapS4_noisy_withiib, mapS4_noiseless_withiib, noiseS4_withiib = CMBS4.S4(skyconfig, S4_dict).getskymaps(\n",
    "                                                                    same_resol=ref_fwhm, \n",
    "                                                                    iib=True, \n",
    "                                                                    verbose=True, \n",
    "                                                                    coverage=covmap, \n",
    "                                                                    noise=True, \n",
    "                                                                    signoise=1.)"
   ]
  },
  {
   "cell_type": "code",
   "execution_count": 73,
   "id": "sudden-employer",
   "metadata": {},
   "outputs": [
    {
     "name": "stdout",
     "output_type": "stream",
     "text": [
      "0\n"
     ]
    },
    {
     "ename": "NameError",
     "evalue": "name 'ref_fwhm' is not defined",
     "output_type": "error",
     "traceback": [
      "\u001b[0;31m---------------------------------------------------------------------------\u001b[0m",
      "\u001b[0;31mNameError\u001b[0m                                 Traceback (most recent call last)",
      "\u001b[0;32m<ipython-input-73-636babec1c7c>\u001b[0m in \u001b[0;36m<module>\u001b[0;34m\u001b[0m\n\u001b[1;32m     10\u001b[0m     \u001b[0mw\u001b[0m \u001b[0;34m=\u001b[0m \u001b[0mnp\u001b[0m\u001b[0;34m.\u001b[0m\u001b[0mones\u001b[0m\u001b[0;34m(\u001b[0m\u001b[0mlen\u001b[0m\u001b[0;34m(\u001b[0m\u001b[0mfreqs\u001b[0m\u001b[0;34m)\u001b[0m\u001b[0;34m)\u001b[0m\u001b[0;34m\u001b[0m\u001b[0;34m\u001b[0m\u001b[0m\n\u001b[1;32m     11\u001b[0m     \u001b[0ma\u001b[0m\u001b[0;34m.\u001b[0m\u001b[0mappend\u001b[0m\u001b[0;34m(\u001b[0m\u001b[0mfreqs\u001b[0m\u001b[0;34m)\u001b[0m\u001b[0;34m\u001b[0m\u001b[0;34m\u001b[0m\u001b[0m\n\u001b[0;32m---> 12\u001b[0;31m     \u001b[0mb\u001b[0m\u001b[0;34m.\u001b[0m\u001b[0mappend\u001b[0m\u001b[0;34m(\u001b[0m\u001b[0mnp\u001b[0m\u001b[0;34m.\u001b[0m\u001b[0mones\u001b[0m\u001b[0;34m(\u001b[0m\u001b[0mn\u001b[0m\u001b[0;34m)\u001b[0m\u001b[0;34m*\u001b[0m\u001b[0mref_fwhm\u001b[0m\u001b[0;34m*\u001b[0m\u001b[0;36m60\u001b[0m\u001b[0;34m)\u001b[0m\u001b[0;34m\u001b[0m\u001b[0;34m\u001b[0m\u001b[0m\n\u001b[0m\u001b[1;32m     13\u001b[0m     \u001b[0mc\u001b[0m\u001b[0;34m.\u001b[0m\u001b[0mappend\u001b[0m\u001b[0;34m(\u001b[0m\u001b[0mnp\u001b[0m\u001b[0;34m.\u001b[0m\u001b[0mones\u001b[0m\u001b[0;34m(\u001b[0m\u001b[0mn\u001b[0m\u001b[0;34m)\u001b[0m\u001b[0;34m*\u001b[0m\u001b[0mS4_dict\u001b[0m\u001b[0;34m[\u001b[0m\u001b[0;34m'depth_i'\u001b[0m\u001b[0;34m]\u001b[0m\u001b[0;34m[\u001b[0m\u001b[0mk\u001b[0m\u001b[0;34m]\u001b[0m\u001b[0;34m)\u001b[0m\u001b[0;34m\u001b[0m\u001b[0;34m\u001b[0m\u001b[0m\n\u001b[1;32m     14\u001b[0m     \u001b[0md\u001b[0m\u001b[0;34m.\u001b[0m\u001b[0mappend\u001b[0m\u001b[0;34m(\u001b[0m\u001b[0mnp\u001b[0m\u001b[0;34m.\u001b[0m\u001b[0mones\u001b[0m\u001b[0;34m(\u001b[0m\u001b[0mn\u001b[0m\u001b[0;34m)\u001b[0m\u001b[0;34m*\u001b[0m\u001b[0mS4_dict\u001b[0m\u001b[0;34m[\u001b[0m\u001b[0;34m'depth_p'\u001b[0m\u001b[0;34m]\u001b[0m\u001b[0;34m[\u001b[0m\u001b[0mk\u001b[0m\u001b[0;34m]\u001b[0m\u001b[0;34m)\u001b[0m\u001b[0;34m\u001b[0m\u001b[0;34m\u001b[0m\u001b[0m\n",
      "\u001b[0;31mNameError\u001b[0m: name 'ref_fwhm' is not defined"
     ]
    }
   ],
   "source": [
    "\n",
    "\n",
    "a=[]\n",
    "b=[]\n",
    "c=[]\n",
    "d=[]\n",
    "k=0\n",
    "n=4\n",
    "for f in S4_dict['frequency']:\n",
    "    print(k)\n",
    "    freqs = np.linspace(S4_dict['edges'][k][0], S4_dict['edges'][k][1], n)\n",
    "    w = np.ones(len(freqs))\n",
    "    a.append(freqs)\n",
    "    b.append(np.ones(n)*ref_fwhm*60)\n",
    "    c.append(np.ones(n)*S4_dict['depth_i'][k])\n",
    "    d.append(np.ones(n)*S4_dict['depth_p'][k])\n",
    "    k+=1"
   ]
  },
  {
   "cell_type": "code",
   "execution_count": 112,
   "id": "fabulous-strain",
   "metadata": {},
   "outputs": [
    {
     "data": {
      "text/plain": [
       "[array([17.5       , 19.16666667, 20.83333333, 22.5       ]),\n",
       " array([25.5, 28.5, 31.5, 34.5]),\n",
       " array([34., 38., 42., 46.]),\n",
       " array([74.8, 81.6, 88.4, 95.2]),\n",
       " array([ 83.6,  91.2,  98.8, 106.4]),\n",
       " array([129.05      , 139.68333333, 150.31666667, 160.95      ]),\n",
       " array([137.95      , 149.31666667, 160.68333333, 172.05      ]),\n",
       " array([195.8       , 211.93333333, 228.06666667, 244.2       ]),\n",
       " array([240.3, 260.1, 279.9, 299.7])]"
      ]
     },
     "execution_count": 112,
     "metadata": {},
     "output_type": "execute_result"
    }
   ],
   "source": [
    "a"
   ]
  },
  {
   "cell_type": "code",
   "execution_count": 114,
   "id": "increasing-mileage",
   "metadata": {
    "scrolled": true
   },
   "outputs": [
    {
     "ename": "ValueError",
     "evalue": "setting an array element with a sequence.",
     "output_type": "error",
     "traceback": [
      "\u001b[0;31m---------------------------------------------------------------------------\u001b[0m",
      "\u001b[0;31mTypeError\u001b[0m                                 Traceback (most recent call last)",
      "\u001b[0;31mTypeError\u001b[0m: only size-1 arrays can be converted to Python scalars",
      "\nThe above exception was the direct cause of the following exception:\n",
      "\u001b[0;31mValueError\u001b[0m                                Traceback (most recent call last)",
      "\u001b[0;32m<ipython-input-114-75470b43c287>\u001b[0m in \u001b[0;36m<module>\u001b[0;34m\u001b[0m\n\u001b[1;32m      6\u001b[0m \u001b[0minstr\u001b[0m\u001b[0;34m.\u001b[0m\u001b[0mdepth_i\u001b[0m \u001b[0;34m=\u001b[0m \u001b[0mc\u001b[0m\u001b[0;34m\u001b[0m\u001b[0;34m\u001b[0m\u001b[0m\n\u001b[1;32m      7\u001b[0m \u001b[0minstr\u001b[0m\u001b[0;34m.\u001b[0m\u001b[0mdepth_p\u001b[0m \u001b[0;34m=\u001b[0m \u001b[0md\u001b[0m\u001b[0;34m\u001b[0m\u001b[0;34m\u001b[0m\u001b[0m\n\u001b[0;32m----> 8\u001b[0;31m \u001b[0mr_s4_withiib\u001b[0m\u001b[0;34m=\u001b[0m\u001b[0mseparate\u001b[0m\u001b[0;34m(\u001b[0m\u001b[0mcomp\u001b[0m\u001b[0;34m,\u001b[0m \u001b[0minstr\u001b[0m\u001b[0;34m,\u001b[0m \u001b[0mmapS4_noisy_withiib\u001b[0m\u001b[0;34m[\u001b[0m\u001b[0;34m:\u001b[0m\u001b[0;34m,\u001b[0m \u001b[0;34m:\u001b[0m\u001b[0;34m,\u001b[0m \u001b[0mpixok\u001b[0m\u001b[0;34m]\u001b[0m\u001b[0;34m,\u001b[0m \u001b[0mtol\u001b[0m\u001b[0;34m=\u001b[0m\u001b[0;36m1e-6\u001b[0m\u001b[0;34m)\u001b[0m\u001b[0;34m\u001b[0m\u001b[0;34m\u001b[0m\u001b[0m\n\u001b[0m",
      "\u001b[0;32m<ipython-input-2-3769d4721a0e>\u001b[0m in \u001b[0;36mseparate\u001b[0;34m(comp, instr, maps_to_separate, tol, print_option)\u001b[0m\n\u001b[1;32m     60\u001b[0m     \u001b[0mfg_kwargs\u001b[0m \u001b[0;34m=\u001b[0m \u001b[0;34m{\u001b[0m\u001b[0;34m'method'\u001b[0m\u001b[0;34m:\u001b[0m \u001b[0;34m'L-BFGS-B'\u001b[0m\u001b[0;34m,\u001b[0m \u001b[0;34m'tol'\u001b[0m\u001b[0;34m:\u001b[0m \u001b[0mtol\u001b[0m\u001b[0;34m,\u001b[0m \u001b[0;34m'options'\u001b[0m\u001b[0;34m:\u001b[0m \u001b[0msolver_options\u001b[0m\u001b[0;34m}\u001b[0m\u001b[0;34m\u001b[0m\u001b[0;34m\u001b[0m\u001b[0m\n\u001b[1;32m     61\u001b[0m     \u001b[0;32mtry\u001b[0m\u001b[0;34m:\u001b[0m\u001b[0;34m\u001b[0m\u001b[0;34m\u001b[0m\u001b[0m\n\u001b[0;32m---> 62\u001b[0;31m         \u001b[0mres\u001b[0m \u001b[0;34m=\u001b[0m \u001b[0mfgb\u001b[0m\u001b[0;34m.\u001b[0m\u001b[0mbasic_comp_sep\u001b[0m\u001b[0;34m(\u001b[0m\u001b[0;34m*\u001b[0m\u001b[0mfg_args\u001b[0m\u001b[0;34m,\u001b[0m \u001b[0;34m**\u001b[0m\u001b[0mfg_kwargs\u001b[0m\u001b[0;34m)\u001b[0m\u001b[0;34m\u001b[0m\u001b[0;34m\u001b[0m\u001b[0m\n\u001b[0m\u001b[1;32m     63\u001b[0m     \u001b[0;32mexcept\u001b[0m \u001b[0mKeyError\u001b[0m\u001b[0;34m:\u001b[0m\u001b[0;34m\u001b[0m\u001b[0;34m\u001b[0m\u001b[0m\n\u001b[1;32m     64\u001b[0m         \u001b[0mfg_kwargs\u001b[0m\u001b[0;34m[\u001b[0m\u001b[0;34m'options'\u001b[0m\u001b[0;34m]\u001b[0m\u001b[0;34m[\u001b[0m\u001b[0;34m'disp'\u001b[0m\u001b[0;34m]\u001b[0m \u001b[0;34m=\u001b[0m \u001b[0;32mFalse\u001b[0m\u001b[0;34m\u001b[0m\u001b[0;34m\u001b[0m\u001b[0m\n",
      "\u001b[0;32m~/miniconda3/lib/python3.8/site-packages/fgbuster-2.0.0-py3.8.egg/fgbuster/separation_recipes.py\u001b[0m in \u001b[0;36mbasic_comp_sep\u001b[0;34m(components, instrument, data, nside, **minimize_kwargs)\u001b[0m\n\u001b[1;32m    223\u001b[0m \u001b[0;34m\u001b[0m\u001b[0m\n\u001b[1;32m    224\u001b[0m     \"\"\"\n\u001b[0;32m--> 225\u001b[0;31m     \u001b[0minstrument\u001b[0m \u001b[0;34m=\u001b[0m \u001b[0mstandardize_instrument\u001b[0m\u001b[0;34m(\u001b[0m\u001b[0minstrument\u001b[0m\u001b[0;34m)\u001b[0m\u001b[0;34m\u001b[0m\u001b[0;34m\u001b[0m\u001b[0m\n\u001b[0m\u001b[1;32m    226\u001b[0m     \u001b[0;31m# Prepare mask and set to zero all the frequencies in the masked pixels:\u001b[0m\u001b[0;34m\u001b[0m\u001b[0;34m\u001b[0m\u001b[0;34m\u001b[0m\u001b[0m\n\u001b[1;32m    227\u001b[0m     \u001b[0;31m# NOTE: mask are bad pixels\u001b[0m\u001b[0;34m\u001b[0m\u001b[0;34m\u001b[0m\u001b[0;34m\u001b[0m\u001b[0m\n",
      "\u001b[0;32m~/miniconda3/lib/python3.8/site-packages/fgbuster-2.0.0-py3.8.egg/fgbuster/observation_helpers.py\u001b[0m in \u001b[0;36mstandardize_instrument\u001b[0;34m(instrument)\u001b[0m\n\u001b[1;32m    236\u001b[0m         \u001b[0;32mtry\u001b[0m\u001b[0;34m:\u001b[0m\u001b[0;34m\u001b[0m\u001b[0;34m\u001b[0m\u001b[0m\n\u001b[1;32m    237\u001b[0m             \u001b[0;32mtry\u001b[0m\u001b[0;34m:\u001b[0m\u001b[0;34m\u001b[0m\u001b[0;34m\u001b[0m\u001b[0m\n\u001b[0;32m--> 238\u001b[0;31m                 \u001b[0mvalue\u001b[0m \u001b[0;34m=\u001b[0m \u001b[0mnp\u001b[0m\u001b[0;34m.\u001b[0m\u001b[0marray\u001b[0m\u001b[0;34m(\u001b[0m\u001b[0mgetattr\u001b[0m\u001b[0;34m(\u001b[0m\u001b[0minstrument\u001b[0m\u001b[0;34m,\u001b[0m \u001b[0mattr\u001b[0m\u001b[0;34m)\u001b[0m\u001b[0;34m,\u001b[0m \u001b[0mdtype\u001b[0m\u001b[0;34m=\u001b[0m\u001b[0mnp\u001b[0m\u001b[0;34m.\u001b[0m\u001b[0mfloat64\u001b[0m\u001b[0;34m)\u001b[0m\u001b[0;34m\u001b[0m\u001b[0;34m\u001b[0m\u001b[0m\n\u001b[0m\u001b[1;32m    239\u001b[0m             \u001b[0;32mexcept\u001b[0m \u001b[0mAttributeError\u001b[0m\u001b[0;34m:\u001b[0m\u001b[0;34m\u001b[0m\u001b[0;34m\u001b[0m\u001b[0m\n\u001b[1;32m    240\u001b[0m                 \u001b[0mvalue\u001b[0m \u001b[0;34m=\u001b[0m \u001b[0mnp\u001b[0m\u001b[0;34m.\u001b[0m\u001b[0marray\u001b[0m\u001b[0;34m(\u001b[0m\u001b[0minstrument\u001b[0m\u001b[0;34m[\u001b[0m\u001b[0mattr\u001b[0m\u001b[0;34m]\u001b[0m\u001b[0;34m,\u001b[0m \u001b[0mdtype\u001b[0m\u001b[0;34m=\u001b[0m\u001b[0mnp\u001b[0m\u001b[0;34m.\u001b[0m\u001b[0mfloat64\u001b[0m\u001b[0;34m)\u001b[0m\u001b[0;34m\u001b[0m\u001b[0;34m\u001b[0m\u001b[0m\n",
      "\u001b[0;32m~/miniconda3/lib/python3.8/site-packages/pandas/core/series.py\u001b[0m in \u001b[0;36m__array__\u001b[0;34m(self, dtype)\u001b[0m\n\u001b[1;32m    766\u001b[0m               dtype='datetime64[ns]')\n\u001b[1;32m    767\u001b[0m         \"\"\"\n\u001b[0;32m--> 768\u001b[0;31m         \u001b[0;32mreturn\u001b[0m \u001b[0mnp\u001b[0m\u001b[0;34m.\u001b[0m\u001b[0masarray\u001b[0m\u001b[0;34m(\u001b[0m\u001b[0mself\u001b[0m\u001b[0;34m.\u001b[0m\u001b[0marray\u001b[0m\u001b[0;34m,\u001b[0m \u001b[0mdtype\u001b[0m\u001b[0;34m)\u001b[0m\u001b[0;34m\u001b[0m\u001b[0;34m\u001b[0m\u001b[0m\n\u001b[0m\u001b[1;32m    769\u001b[0m \u001b[0;34m\u001b[0m\u001b[0m\n\u001b[1;32m    770\u001b[0m     \u001b[0;31m# ----------------------------------------------------------------------\u001b[0m\u001b[0;34m\u001b[0m\u001b[0;34m\u001b[0m\u001b[0;34m\u001b[0m\u001b[0m\n",
      "\u001b[0;32m~/miniconda3/lib/python3.8/site-packages/numpy/core/_asarray.py\u001b[0m in \u001b[0;36masarray\u001b[0;34m(a, dtype, order)\u001b[0m\n\u001b[1;32m     81\u001b[0m \u001b[0;34m\u001b[0m\u001b[0m\n\u001b[1;32m     82\u001b[0m     \"\"\"\n\u001b[0;32m---> 83\u001b[0;31m     \u001b[0;32mreturn\u001b[0m \u001b[0marray\u001b[0m\u001b[0;34m(\u001b[0m\u001b[0ma\u001b[0m\u001b[0;34m,\u001b[0m \u001b[0mdtype\u001b[0m\u001b[0;34m,\u001b[0m \u001b[0mcopy\u001b[0m\u001b[0;34m=\u001b[0m\u001b[0;32mFalse\u001b[0m\u001b[0;34m,\u001b[0m \u001b[0morder\u001b[0m\u001b[0;34m=\u001b[0m\u001b[0morder\u001b[0m\u001b[0;34m)\u001b[0m\u001b[0;34m\u001b[0m\u001b[0;34m\u001b[0m\u001b[0m\n\u001b[0m\u001b[1;32m     84\u001b[0m \u001b[0;34m\u001b[0m\u001b[0m\n\u001b[1;32m     85\u001b[0m \u001b[0;34m\u001b[0m\u001b[0m\n",
      "\u001b[0;32m~/miniconda3/lib/python3.8/site-packages/pandas/core/arrays/numpy_.py\u001b[0m in \u001b[0;36m__array__\u001b[0;34m(self, dtype)\u001b[0m\n\u001b[1;32m    201\u001b[0m \u001b[0;34m\u001b[0m\u001b[0m\n\u001b[1;32m    202\u001b[0m     \u001b[0;32mdef\u001b[0m \u001b[0m__array__\u001b[0m\u001b[0;34m(\u001b[0m\u001b[0mself\u001b[0m\u001b[0;34m,\u001b[0m \u001b[0mdtype\u001b[0m\u001b[0;34m=\u001b[0m\u001b[0;32mNone\u001b[0m\u001b[0;34m)\u001b[0m \u001b[0;34m->\u001b[0m \u001b[0mnp\u001b[0m\u001b[0;34m.\u001b[0m\u001b[0mndarray\u001b[0m\u001b[0;34m:\u001b[0m\u001b[0;34m\u001b[0m\u001b[0;34m\u001b[0m\u001b[0m\n\u001b[0;32m--> 203\u001b[0;31m         \u001b[0;32mreturn\u001b[0m \u001b[0mnp\u001b[0m\u001b[0;34m.\u001b[0m\u001b[0masarray\u001b[0m\u001b[0;34m(\u001b[0m\u001b[0mself\u001b[0m\u001b[0;34m.\u001b[0m\u001b[0m_ndarray\u001b[0m\u001b[0;34m,\u001b[0m \u001b[0mdtype\u001b[0m\u001b[0;34m=\u001b[0m\u001b[0mdtype\u001b[0m\u001b[0;34m)\u001b[0m\u001b[0;34m\u001b[0m\u001b[0;34m\u001b[0m\u001b[0m\n\u001b[0m\u001b[1;32m    204\u001b[0m \u001b[0;34m\u001b[0m\u001b[0m\n\u001b[1;32m    205\u001b[0m     \u001b[0m_HANDLED_TYPES\u001b[0m \u001b[0;34m=\u001b[0m \u001b[0;34m(\u001b[0m\u001b[0mnp\u001b[0m\u001b[0;34m.\u001b[0m\u001b[0mndarray\u001b[0m\u001b[0;34m,\u001b[0m \u001b[0mnumbers\u001b[0m\u001b[0;34m.\u001b[0m\u001b[0mNumber\u001b[0m\u001b[0;34m)\u001b[0m\u001b[0;34m\u001b[0m\u001b[0;34m\u001b[0m\u001b[0m\n",
      "\u001b[0;32m~/miniconda3/lib/python3.8/site-packages/numpy/core/_asarray.py\u001b[0m in \u001b[0;36masarray\u001b[0;34m(a, dtype, order)\u001b[0m\n\u001b[1;32m     81\u001b[0m \u001b[0;34m\u001b[0m\u001b[0m\n\u001b[1;32m     82\u001b[0m     \"\"\"\n\u001b[0;32m---> 83\u001b[0;31m     \u001b[0;32mreturn\u001b[0m \u001b[0marray\u001b[0m\u001b[0;34m(\u001b[0m\u001b[0ma\u001b[0m\u001b[0;34m,\u001b[0m \u001b[0mdtype\u001b[0m\u001b[0;34m,\u001b[0m \u001b[0mcopy\u001b[0m\u001b[0;34m=\u001b[0m\u001b[0;32mFalse\u001b[0m\u001b[0;34m,\u001b[0m \u001b[0morder\u001b[0m\u001b[0;34m=\u001b[0m\u001b[0morder\u001b[0m\u001b[0;34m)\u001b[0m\u001b[0;34m\u001b[0m\u001b[0;34m\u001b[0m\u001b[0m\n\u001b[0m\u001b[1;32m     84\u001b[0m \u001b[0;34m\u001b[0m\u001b[0m\n\u001b[1;32m     85\u001b[0m \u001b[0;34m\u001b[0m\u001b[0m\n",
      "\u001b[0;31mValueError\u001b[0m: setting an array element with a sequence."
     ]
    }
   ],
   "source": [
    "# CMB-S4\n",
    "comp=[Dust(nu0=150), CMB()]\n",
    "instr = get_instrument('CMBS4')\n",
    "instr.frequency = a\n",
    "instr.fwhm = b\n",
    "instr.depth_i = c\n",
    "instr.depth_p = d\n",
    "r_s4_withiib=separate(comp, instr, mapS4_noisy_withiib[:, :, pixok], tol=1e-6)"
   ]
  },
  {
   "cell_type": "code",
   "execution_count": 109,
   "id": "private-standing",
   "metadata": {},
   "outputs": [
    {
     "data": {
      "text/plain": [
       "array([ 1.9787874, 20.0070429])"
      ]
     },
     "execution_count": 109,
     "metadata": {},
     "output_type": "execute_result"
    }
   ],
   "source": [
    "r_s4_withiib.x"
   ]
  },
  {
   "cell_type": "code",
   "execution_count": 110,
   "id": "through-minority",
   "metadata": {},
   "outputs": [
    {
     "data": {
      "text/html": [
       "<div>\n",
       "<style scoped>\n",
       "    .dataframe tbody tr th:only-of-type {\n",
       "        vertical-align: middle;\n",
       "    }\n",
       "\n",
       "    .dataframe tbody tr th {\n",
       "        vertical-align: top;\n",
       "    }\n",
       "\n",
       "    .dataframe thead th {\n",
       "        text-align: right;\n",
       "    }\n",
       "</style>\n",
       "<table border=\"1\" class=\"dataframe\">\n",
       "  <thead>\n",
       "    <tr style=\"text-align: right;\">\n",
       "      <th></th>\n",
       "      <th>frequency</th>\n",
       "      <th>depth_p</th>\n",
       "      <th>depth_i</th>\n",
       "      <th>fwhm</th>\n",
       "      <th>f_sky</th>\n",
       "      <th>type</th>\n",
       "      <th>experiment</th>\n",
       "    </tr>\n",
       "  </thead>\n",
       "  <tbody>\n",
       "    <tr>\n",
       "      <th>0</th>\n",
       "      <td>[17.5, 19.166666666666668, 20.833333333333332,...</td>\n",
       "      <td>[10.55, 10.55, 10.55, 10.55]</td>\n",
       "      <td>[16.5, 16.5, 16.5, 16.5]</td>\n",
       "      <td>[60.0, 60.0, 60.0, 60.0]</td>\n",
       "      <td>0.03</td>\n",
       "      <td>ground</td>\n",
       "      <td>CMBS4</td>\n",
       "    </tr>\n",
       "    <tr>\n",
       "      <th>1</th>\n",
       "      <td>[25.5, 28.5, 31.5, 34.5]</td>\n",
       "      <td>[6.025, 6.025, 6.025, 6.025]</td>\n",
       "      <td>[9.36, 9.36, 9.36, 9.36]</td>\n",
       "      <td>[60.0, 60.0, 60.0, 60.0]</td>\n",
       "      <td>0.03</td>\n",
       "      <td>ground</td>\n",
       "      <td>CMBS4</td>\n",
       "    </tr>\n",
       "    <tr>\n",
       "      <th>2</th>\n",
       "      <td>[34.0, 38.0, 42.0, 46.0]</td>\n",
       "      <td>[7.625, 7.625, 7.625, 7.625]</td>\n",
       "      <td>[11.85, 11.85, 11.85, 11.85]</td>\n",
       "      <td>[60.0, 60.0, 60.0, 60.0]</td>\n",
       "      <td>0.03</td>\n",
       "      <td>ground</td>\n",
       "      <td>CMBS4</td>\n",
       "    </tr>\n",
       "    <tr>\n",
       "      <th>3</th>\n",
       "      <td>[74.8, 81.6, 88.4, 95.2]</td>\n",
       "      <td>[1.3050000000000002, 1.3050000000000002, 1.305...</td>\n",
       "      <td>[2.02, 2.02, 2.02, 2.02]</td>\n",
       "      <td>[60.0, 60.0, 60.0, 60.0]</td>\n",
       "      <td>0.03</td>\n",
       "      <td>ground</td>\n",
       "      <td>CMBS4</td>\n",
       "    </tr>\n",
       "    <tr>\n",
       "      <th>4</th>\n",
       "      <td>[83.6, 91.2, 98.8, 106.4]</td>\n",
       "      <td>[1.15, 1.15, 1.15, 1.15]</td>\n",
       "      <td>[1.78, 1.78, 1.78, 1.78]</td>\n",
       "      <td>[60.0, 60.0, 60.0, 60.0]</td>\n",
       "      <td>0.03</td>\n",
       "      <td>ground</td>\n",
       "      <td>CMBS4</td>\n",
       "    </tr>\n",
       "    <tr>\n",
       "      <th>5</th>\n",
       "      <td>[129.05, 139.68333333333334, 150.3166666666667...</td>\n",
       "      <td>[1.78, 1.78, 1.78, 1.78]</td>\n",
       "      <td>[3.89, 3.89, 3.89, 3.89]</td>\n",
       "      <td>[60.0, 60.0, 60.0, 60.0]</td>\n",
       "      <td>0.03</td>\n",
       "      <td>ground</td>\n",
       "      <td>CMBS4</td>\n",
       "    </tr>\n",
       "    <tr>\n",
       "      <th>6</th>\n",
       "      <td>[137.95, 149.31666666666666, 160.6833333333333...</td>\n",
       "      <td>[1.91, 1.91, 1.91, 1.91]</td>\n",
       "      <td>[4.16, 4.16, 4.16, 4.16]</td>\n",
       "      <td>[60.0, 60.0, 60.0, 60.0]</td>\n",
       "      <td>0.03</td>\n",
       "      <td>ground</td>\n",
       "      <td>CMBS4</td>\n",
       "    </tr>\n",
       "    <tr>\n",
       "      <th>7</th>\n",
       "      <td>[195.8, 211.93333333333334, 228.0666666666667,...</td>\n",
       "      <td>[4.654999999999999, 4.654999999999999, 4.65499...</td>\n",
       "      <td>[10.15, 10.15, 10.15, 10.15]</td>\n",
       "      <td>[60.0, 60.0, 60.0, 60.0]</td>\n",
       "      <td>0.03</td>\n",
       "      <td>ground</td>\n",
       "      <td>CMBS4</td>\n",
       "    </tr>\n",
       "    <tr>\n",
       "      <th>8</th>\n",
       "      <td>[240.3, 260.1, 279.90000000000003, 299.7000000...</td>\n",
       "      <td>[7.984999999999999, 7.984999999999999, 7.98499...</td>\n",
       "      <td>[17.4, 17.4, 17.4, 17.4]</td>\n",
       "      <td>[60.0, 60.0, 60.0, 60.0]</td>\n",
       "      <td>0.03</td>\n",
       "      <td>ground</td>\n",
       "      <td>CMBS4</td>\n",
       "    </tr>\n",
       "  </tbody>\n",
       "</table>\n",
       "</div>"
      ],
      "text/plain": [
       "                                           frequency  \\\n",
       "0  [17.5, 19.166666666666668, 20.833333333333332,...   \n",
       "1                           [25.5, 28.5, 31.5, 34.5]   \n",
       "2                           [34.0, 38.0, 42.0, 46.0]   \n",
       "3                           [74.8, 81.6, 88.4, 95.2]   \n",
       "4                          [83.6, 91.2, 98.8, 106.4]   \n",
       "5  [129.05, 139.68333333333334, 150.3166666666667...   \n",
       "6  [137.95, 149.31666666666666, 160.6833333333333...   \n",
       "7  [195.8, 211.93333333333334, 228.0666666666667,...   \n",
       "8  [240.3, 260.1, 279.90000000000003, 299.7000000...   \n",
       "\n",
       "                                             depth_p  \\\n",
       "0                       [10.55, 10.55, 10.55, 10.55]   \n",
       "1                       [6.025, 6.025, 6.025, 6.025]   \n",
       "2                       [7.625, 7.625, 7.625, 7.625]   \n",
       "3  [1.3050000000000002, 1.3050000000000002, 1.305...   \n",
       "4                           [1.15, 1.15, 1.15, 1.15]   \n",
       "5                           [1.78, 1.78, 1.78, 1.78]   \n",
       "6                           [1.91, 1.91, 1.91, 1.91]   \n",
       "7  [4.654999999999999, 4.654999999999999, 4.65499...   \n",
       "8  [7.984999999999999, 7.984999999999999, 7.98499...   \n",
       "\n",
       "                        depth_i                      fwhm  f_sky    type  \\\n",
       "0      [16.5, 16.5, 16.5, 16.5]  [60.0, 60.0, 60.0, 60.0]   0.03  ground   \n",
       "1      [9.36, 9.36, 9.36, 9.36]  [60.0, 60.0, 60.0, 60.0]   0.03  ground   \n",
       "2  [11.85, 11.85, 11.85, 11.85]  [60.0, 60.0, 60.0, 60.0]   0.03  ground   \n",
       "3      [2.02, 2.02, 2.02, 2.02]  [60.0, 60.0, 60.0, 60.0]   0.03  ground   \n",
       "4      [1.78, 1.78, 1.78, 1.78]  [60.0, 60.0, 60.0, 60.0]   0.03  ground   \n",
       "5      [3.89, 3.89, 3.89, 3.89]  [60.0, 60.0, 60.0, 60.0]   0.03  ground   \n",
       "6      [4.16, 4.16, 4.16, 4.16]  [60.0, 60.0, 60.0, 60.0]   0.03  ground   \n",
       "7  [10.15, 10.15, 10.15, 10.15]  [60.0, 60.0, 60.0, 60.0]   0.03  ground   \n",
       "8      [17.4, 17.4, 17.4, 17.4]  [60.0, 60.0, 60.0, 60.0]   0.03  ground   \n",
       "\n",
       "  experiment  \n",
       "0      CMBS4  \n",
       "1      CMBS4  \n",
       "2      CMBS4  \n",
       "3      CMBS4  \n",
       "4      CMBS4  \n",
       "5      CMBS4  \n",
       "6      CMBS4  \n",
       "7      CMBS4  \n",
       "8      CMBS4  "
      ]
     },
     "execution_count": 110,
     "metadata": {},
     "output_type": "execute_result"
    }
   ],
   "source": [
    "instr"
   ]
  },
  {
   "cell_type": "code",
   "execution_count": null,
   "id": "nasty-debut",
   "metadata": {},
   "outputs": [],
   "source": []
  },
  {
   "cell_type": "code",
   "execution_count": 9,
   "id": "timely-beginning",
   "metadata": {},
   "outputs": [],
   "source": [
    "import scipy"
   ]
  },
  {
   "cell_type": "code",
   "execution_count": 10,
   "id": "adjusted-approach",
   "metadata": {},
   "outputs": [
    {
     "ename": "AttributeError",
     "evalue": "module 'scipy' has no attribute 'curve_fit'",
     "output_type": "error",
     "traceback": [
      "\u001b[0;31m---------------------------------------------------------------------------\u001b[0m",
      "\u001b[0;31mAttributeError\u001b[0m                            Traceback (most recent call last)",
      "\u001b[0;32m<ipython-input-10-a20f629d637c>\u001b[0m in \u001b[0;36m<module>\u001b[0;34m\u001b[0m\n\u001b[0;32m----> 1\u001b[0;31m \u001b[0mscipy\u001b[0m\u001b[0;34m.\u001b[0m\u001b[0mcurve_fit\u001b[0m\u001b[0;34m\u001b[0m\u001b[0;34m\u001b[0m\u001b[0m\n\u001b[0m",
      "\u001b[0;31mAttributeError\u001b[0m: module 'scipy' has no attribute 'curve_fit'"
     ]
    }
   ],
   "source": [
    "scipy.curve_fit"
   ]
  },
  {
   "cell_type": "code",
   "execution_count": 14,
   "id": "boxed-charger",
   "metadata": {},
   "outputs": [
    {
     "data": {
      "text/plain": [
       "<function scipy.optimize.minpack.curve_fit(f, xdata, ydata, p0=None, sigma=None, absolute_sigma=False, check_finite=True, bounds=(-inf, inf), method=None, jac=None, **kwargs)>"
      ]
     },
     "execution_count": 14,
     "metadata": {},
     "output_type": "execute_result"
    }
   ],
   "source": [
    "scipy.optimize.curve_fit"
   ]
  },
  {
   "cell_type": "code",
   "execution_count": null,
   "id": "conventional-fitting",
   "metadata": {},
   "outputs": [],
   "source": []
  }
 ],
 "metadata": {
  "kernelspec": {
   "display_name": "Python 3",
   "language": "python",
   "name": "python3"
  },
  "language_info": {
   "codemirror_mode": {
    "name": "ipython",
    "version": 3
   },
   "file_extension": ".py",
   "mimetype": "text/x-python",
   "name": "python",
   "nbconvert_exporter": "python",
   "pygments_lexer": "ipython3",
   "version": "3.8.5"
  }
 },
 "nbformat": 4,
 "nbformat_minor": 5
}
