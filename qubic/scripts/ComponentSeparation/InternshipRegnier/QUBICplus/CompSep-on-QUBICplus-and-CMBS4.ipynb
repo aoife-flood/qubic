{
 "cells": [
  {
   "cell_type": "markdown",
   "id": "placed-arkansas",
   "metadata": {},
   "source": [
    "# Component Separation on CMB S4 and QUBIC+"
   ]
  },
  {
   "cell_type": "code",
   "execution_count": 1,
   "id": "collective-geography",
   "metadata": {},
   "outputs": [
    {
     "name": "stderr",
     "output_type": "stream",
     "text": [
      "/Users/mathiasregnier/miniconda3/lib/python3.8/site-packages/healpy/fitsfunc.py:368: UserWarning: If you are not specifying the input dtype and using the default np.float64 dtype of read_map(), please consider that it will change in a future version to None as to keep the same dtype of the input file: please explicitly set the dtype if it is important to you.\n",
      "  warnings.warn(\n",
      "/Users/mathiasregnier/miniconda3/lib/python3.8/site-packages/healpy/fitsfunc.py:391: UserWarning: NSIDE = 128\n",
      "  warnings.warn(\"NSIDE = {0:d}\".format(nside))\n",
      "/Users/mathiasregnier/miniconda3/lib/python3.8/site-packages/healpy/fitsfunc.py:400: UserWarning: ORDERING = RING in fits file\n",
      "  warnings.warn(\"ORDERING = {0:s} in fits file\".format(ordering))\n",
      "/Users/mathiasregnier/miniconda3/lib/python3.8/site-packages/healpy/fitsfunc.py:428: UserWarning: INDXSCHM = IMPLICIT\n",
      "  warnings.warn(\"INDXSCHM = {0:s}\".format(schm))\n"
     ]
    }
   ],
   "source": [
    "import qubicplus\n",
    "import CMBS4\n",
    "import pysm3\n",
    "import pysm3.units as u\n",
    "from pysm3 import utils\n",
    "import numpy as np\n",
    "from qubic import camb_interface as qc\n",
    "import healpy as hp\n",
    "import matplotlib.pyplot as plt\n",
    "import os\n",
    "import random as rd\n",
    "import string\n",
    "import qubic\n",
    "from importlib import reload\n",
    "\n",
    "center = qubic.equ2gal(0, -57)\n",
    "# If there is not this command, the kernel shut down every time..\n",
    "os.environ['KMP_DUPLICATE_LIB_OK'] = 'True'\n",
    "\n",
    "nside=256\n",
    "covmap = hp.ud_grade(hp.read_map('QUBIC-Typical-Coverage.fits'), nside)\n",
    "skyconfig = {'cmb':42, 'dust':'d0'}\n",
    "\n",
    "thr = 0.1\n",
    "mymask = (covmap > (np.max(covmap)*thr)).astype(int)\n",
    "pixok = mymask > 0"
   ]
  },
  {
   "cell_type": "code",
   "execution_count": 134,
   "id": "compact-supply",
   "metadata": {},
   "outputs": [
    {
     "name": "stderr",
     "output_type": "stream",
     "text": [
      "/Users/mathiasregnier/miniconda3/lib/python3.8/site-packages/healpy/fitsfunc.py:197: FutureWarning: The default dtype of write_map() will change in a future version: explicitly set the dtype if it is important to you\n",
      "  warnings.warn(\n",
      "/Users/mathiasregnier/miniconda3/lib/python3.8/site-packages/pysm3/utils/data.py:37: UserWarning: Access data from /tmp/XnX8l38i8O\n",
      "  warnings.warn(f\"Access data from {full_path}\")\n",
      "/Users/mathiasregnier/miniconda3/lib/python3.8/site-packages/pysm3/utils/data.py:42: UserWarning: Retrieve data for pysm_2/dust_t_new.fits (if not cached already)\n",
      "  warnings.warn(f\"Retrieve data for {filename} (if not cached already)\")\n",
      "/Users/mathiasregnier/miniconda3/lib/python3.8/site-packages/pysm3/utils/data.py:42: UserWarning: Retrieve data for pysm_2/dust_q_new.fits (if not cached already)\n",
      "  warnings.warn(f\"Retrieve data for {filename} (if not cached already)\")\n",
      "/Users/mathiasregnier/miniconda3/lib/python3.8/site-packages/pysm3/utils/data.py:42: UserWarning: Retrieve data for pysm_2/dust_u_new.fits (if not cached already)\n",
      "  warnings.warn(f\"Retrieve data for {filename} (if not cached already)\")\n",
      "/Users/mathiasregnier/miniconda3/lib/python3.8/site-packages/pysm3/utils/data.py:37: UserWarning: Access data from /tmp/OlAnmCH1rq\n",
      "  warnings.warn(f\"Access data from {full_path}\")\n"
     ]
    }
   ],
   "source": [
    "reload(qubicplus)\n",
    "reload(CMBS4)\n",
    "\n",
    "nf=5\n",
    "index=8\n",
    "\n",
    "maps_s4, _, noise_s4, nus_s4, fwhm_s4=CMBS4.S4(skyconfig, nf).get_fullsky_S4(verbose=False, iib=False, coverage=None)\n",
    "maps_qp, _, noise_qp, nus_qp, fwhm_qp, depthi, depthp=qubicplus.QUBICplus(skyconfig, nf).get_fullsky_qubicplus(index=index, verbose=False, \n",
    "                                                                                  coverage=covmap, iib=False)"
   ]
  },
  {
   "cell_type": "code",
   "execution_count": 135,
   "id": "marked-attitude",
   "metadata": {},
   "outputs": [
    {
     "name": "stdout",
     "output_type": "stream",
     "text": [
      "[246.24 258.12 270.   281.88 293.76] [0.2375731  0.22663877 0.21666667 0.20753512 0.19914216]\n"
     ]
    }
   ],
   "source": [
    "print(nus_qp, fwhm_qp)"
   ]
  },
  {
   "cell_type": "code",
   "execution_count": 136,
   "id": "patent-agreement",
   "metadata": {},
   "outputs": [],
   "source": [
    "import fgbuster as fgb\n",
    "from fgbuster import basic_comp_sep, get_instrument\n",
    "\n",
    "def reconvolve(maps, fwhms, ref_fwhm, verbose=False):\n",
    "    if verbose:\n",
    "        print('Reconvolution to common FWHM')\n",
    "    sig_conv = np.sqrt(ref_fwhm**2 - fwhms**2)\n",
    "    maps_out = np.zeros_like(maps)\n",
    "    for i in range(len(fwhms)):\n",
    "        if sig_conv[i] == 0:\n",
    "            if verbose:\n",
    "                print('Map {0:} fwhmin={1:6.3f} fwhmout={2:6.3f} => We do not reconvolve'.format(i,\n",
    "                                                                                             fwhms[i], ref_fwhm))\n",
    "            maps_out[i,:] = maps[i,:]\n",
    "        else:\n",
    "            if verbose:\n",
    "                print('Map {0:} fwhmin={1:6.3f} fwhmout={2:6.3f} => We reconvolve with {3:6.3f}'.format(i,\n",
    "                                                                                                    fwhms[i],\n",
    "                                                                                                    ref_fwhm,\n",
    "                                                                                                    sig_conv[i]))\n",
    "            maps_out[i,:] = hp.smoothing(maps[i,:], fwhm=np.deg2rad(sig_conv[i]), pol=True, verbose=False)\n",
    "    return maps_out\n",
    "\n",
    "def give_me_rms_I(X, nside) :\n",
    "    rms = np.std(X[:, 0, :], axis=1)\n",
    "    rms *= np.sqrt(hp.nside2pixarea(nside, degrees=True)) * 60\n",
    "    return rms"
   ]
  },
  {
   "cell_type": "code",
   "execution_count": 137,
   "id": "composite-crash",
   "metadata": {},
   "outputs": [],
   "source": [
    "maps_s4_reconv = reconvolve(maps_s4, fwhm_s4, np.max(fwhm_s4)+0.01)\n",
    "maps_qp_reconv = reconvolve(maps_qp, fwhm_qp, np.max(fwhm_qp)+0.01)"
   ]
  },
  {
   "cell_type": "code",
   "execution_count": 138,
   "id": "based-mileage",
   "metadata": {},
   "outputs": [
    {
     "name": "stderr",
     "output_type": "stream",
     "text": [
      "<ipython-input-138-4db802bd3394>:7: UserWarning: Pandas doesn't allow columns to be created via a new attribute name - see https://pandas.pydata.org/pandas-docs/stable/indexing.html#attribute-access\n",
      "  instr.frequency = nus_s4\n",
      "<ipython-input-138-4db802bd3394>:8: UserWarning: Pandas doesn't allow columns to be created via a new attribute name - see https://pandas.pydata.org/pandas-docs/stable/indexing.html#attribute-access\n",
      "  instr.fwhm = fwhm_s4\n",
      "<ipython-input-138-4db802bd3394>:9: UserWarning: Pandas doesn't allow columns to be created via a new attribute name - see https://pandas.pydata.org/pandas-docs/stable/indexing.html#attribute-access\n",
      "  instr.depth_i = depthi\n",
      "<ipython-input-138-4db802bd3394>:10: UserWarning: Pandas doesn't allow columns to be created via a new attribute name - see https://pandas.pydata.org/pandas-docs/stable/indexing.html#attribute-access\n",
      "  instr.depth_p = depthp\n"
     ]
    }
   ],
   "source": [
    "from fgbuster import (separation_recipes, xForecast, CMB, Dust, Synchrotron, FreeFree, PowerLaw,  # sky-fitting model\n",
    "                      basic_comp_sep)\n",
    "\n",
    "comp = [Dust(nu0=150., temp=20), CMB()]\n",
    "\n",
    "instr = get_instrument('Qubic')\n",
    "instr.frequency = nus_s4\n",
    "instr.fwhm = fwhm_s4\n",
    "instr.depth_i = depthi\n",
    "instr.depth_p = depthp"
   ]
  },
  {
   "cell_type": "code",
   "execution_count": 139,
   "id": "twenty-stack",
   "metadata": {},
   "outputs": [],
   "source": [
    "#maps_s4_reconv[:, :, ~pixok] = hp.UNSEEN\n",
    "\n",
    "r = basic_comp_sep(comp, instr, maps_s4_reconv)"
   ]
  },
  {
   "cell_type": "code",
   "execution_count": 140,
   "id": "breeding-tribute",
   "metadata": {},
   "outputs": [
    {
     "data": {
      "text/plain": [
       "array([1.53998224])"
      ]
     },
     "execution_count": 140,
     "metadata": {},
     "output_type": "execute_result"
    }
   ],
   "source": [
    "r.x"
   ]
  },
  {
   "cell_type": "code",
   "execution_count": 141,
   "id": "subsequent-cancellation",
   "metadata": {},
   "outputs": [
    {
     "name": "stderr",
     "output_type": "stream",
     "text": [
      "<ipython-input-141-b067a9a60d2b>:7: UserWarning: Pandas doesn't allow columns to be created via a new attribute name - see https://pandas.pydata.org/pandas-docs/stable/indexing.html#attribute-access\n",
      "  instr.frequency = nus_qp\n",
      "<ipython-input-141-b067a9a60d2b>:8: UserWarning: Pandas doesn't allow columns to be created via a new attribute name - see https://pandas.pydata.org/pandas-docs/stable/indexing.html#attribute-access\n",
      "  instr.fwhm = np.ones(nf)*(np.max(fwhm_qp)+0.01)\n",
      "<ipython-input-141-b067a9a60d2b>:9: UserWarning: Pandas doesn't allow columns to be created via a new attribute name - see https://pandas.pydata.org/pandas-docs/stable/indexing.html#attribute-access\n",
      "  instr.depth_i = np.ones(nf)*depthi[index]*np.sqrt(nf)\n",
      "<ipython-input-141-b067a9a60d2b>:10: UserWarning: Pandas doesn't allow columns to be created via a new attribute name - see https://pandas.pydata.org/pandas-docs/stable/indexing.html#attribute-access\n",
      "  instr.depth_p = np.ones(nf)*depthp[index]*np.sqrt(nf)\n"
     ]
    }
   ],
   "source": [
    "from fgbuster import (separation_recipes, xForecast, CMB, Dust, Synchrotron, FreeFree, PowerLaw,  # sky-fitting model\n",
    "                      basic_comp_sep)\n",
    "\n",
    "comp = [Dust(nu0=150., temp=20), CMB()]\n",
    "\n",
    "instr = get_instrument('Qubic')\n",
    "instr.frequency = nus_qp\n",
    "instr.fwhm = np.ones(nf)*(np.max(fwhm_qp)+0.01)\n",
    "instr.depth_i = np.ones(nf)*depthi[index]*np.sqrt(nf)\n",
    "instr.depth_p = np.ones(nf)*depthp[index]*np.sqrt(nf)"
   ]
  },
  {
   "cell_type": "code",
   "execution_count": 142,
   "id": "based-mathematics",
   "metadata": {},
   "outputs": [],
   "source": [
    "maps_qp_reconv[:, :, ~pixok] = hp.UNSEEN\n",
    "\n",
    "r = basic_comp_sep(comp, instr, maps_qp_reconv, method='L-BFGS-B', options={'eps': 1e-10, 'ftol': 1e-10})"
   ]
  },
  {
   "cell_type": "code",
   "execution_count": 143,
   "id": "vocal-cotton",
   "metadata": {},
   "outputs": [
    {
     "data": {
      "text/plain": [
       "array([-0.45792282])"
      ]
     },
     "execution_count": 143,
     "metadata": {},
     "output_type": "execute_result"
    }
   ],
   "source": [
    "r.x"
   ]
  },
  {
   "cell_type": "code",
   "execution_count": null,
   "id": "fancy-marsh",
   "metadata": {},
   "outputs": [],
   "source": []
  },
  {
   "cell_type": "code",
   "execution_count": null,
   "id": "portable-format",
   "metadata": {},
   "outputs": [],
   "source": []
  }
 ],
 "metadata": {
  "kernelspec": {
   "display_name": "Python 3",
   "language": "python",
   "name": "python3"
  },
  "language_info": {
   "codemirror_mode": {
    "name": "ipython",
    "version": 3
   },
   "file_extension": ".py",
   "mimetype": "text/x-python",
   "name": "python",
   "nbconvert_exporter": "python",
   "pygments_lexer": "ipython3",
   "version": "3.8.5"
  }
 },
 "nbformat": 4,
 "nbformat_minor": 5
}
