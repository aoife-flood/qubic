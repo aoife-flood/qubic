{
 "cells": [
  {
   "cell_type": "code",
   "execution_count": 1,
   "id": "manual-compound",
   "metadata": {},
   "outputs": [],
   "source": [
    "import s4bi\n",
    "import matplotlib.pyplot as plt\n",
    "from importlib import reload\n",
    "from scipy import constants\n",
    "from astropy.cosmology import Planck15\n",
    "import qubic\n",
    "from qubic import mcmc\n",
    "import healpy as hp\n",
    "import numpy as np\n",
    "import os\n",
    "import CMBS4\n",
    "import qubicplus\n",
    "#import fgbuster\n",
    "import fgbuster\n",
    "center = qubic.equ2gal(0, -57)\n",
    "from fgbuster.component_model import (CMB, Dust, Dust_2b, Synchrotron, AnalyticComponent)\n",
    "from fgbuster import basic_comp_sep, get_instrument\n",
    "# If there is not this command, the kernel shut down every time..\n",
    "os.environ['KMP_DUPLICATE_LIB_OK'] = 'True'\n",
    "import pickle\n",
    "\n",
    "def separate(comp, instr, maps_to_separate, print_option=False):\n",
    "    solver_options = {'eps':1e-5}\n",
    "    solver_options['disp'] = False\n",
    "    fg_args = comp, instr, maps_to_separate\n",
    "    fg_kwargs = {'method': 'L-BFGS-B', 'options': solver_options}\n",
    "    try:\n",
    "        res = fgbuster.basic_comp_sep(*fg_args, **fg_kwargs)\n",
    "    except KeyError:\n",
    "        fg_kwargs['options']['disp'] = False\n",
    "        res = fgbuster.basic_comp_sep(*fg_args, **fg_kwargs)\n",
    "    if print_option:\n",
    "        print()\n",
    "        print(\"message:\", res.message)\n",
    "        print(\"success:\", res.success)\n",
    "        print(\"result:\", res.x)\n",
    "        \n",
    "    return res\n",
    "\n",
    "nside=256\n",
    "def get_coverage(fsky, nside, center_radec=[0., -57.]):\n",
    "    center = qubic.equ2gal(center_radec[0], center_radec[1])\n",
    "    uvcenter = np.array(hp.ang2vec(center[0], center[1], lonlat=True))\n",
    "    uvpix = np.array(hp.pix2vec(nside, np.arange(12*nside**2)))\n",
    "    ang = np.arccos(np.dot(uvcenter, uvpix))\n",
    "    indices = np.argsort(ang)\n",
    "    okpix = ang < -1\n",
    "    okpix[indices[0:int(fsky * 12*nside**2)]] = True\n",
    "    mask = np.zeros(12*nside**2)\n",
    "    mask[okpix] = 1\n",
    "    return mask\n",
    "\n",
    "covmap = get_coverage(0.03, nside)\n",
    "\n",
    "pkl_file = open('S4_dict.pkl', 'rb')\n",
    "S4_dict = pickle.load(pkl_file)\n",
    "pkl_file.close()\n",
    "pkl_file = open('BI_dict.pkl', 'rb')\n",
    "BI_dict = pickle.load(pkl_file)\n",
    "pkl_file.close()"
   ]
  },
  {
   "cell_type": "markdown",
   "id": "attractive-basketball",
   "metadata": {},
   "source": [
    "Before we explore the component separation with FG-Buster for a simple model of dust (d0 in PySM) which leads to a modified black body with temperature $T$ and a spectral index $\\beta_d$. Let's assume now a more complex model of dust. We impose now two index $\\beta$ which caracterize SED between a break frequency $\\nu_{break}$. "
   ]
  },
  {
   "cell_type": "markdown",
   "id": "polar-spokesman",
   "metadata": {},
   "source": [
    "We modify FG-Buster before in order to compute a SED with twos differents slopes. Here a defition which compute those SED."
   ]
  },
  {
   "cell_type": "code",
   "execution_count": 2,
   "id": "acquired-projection",
   "metadata": {},
   "outputs": [],
   "source": [
    "# analytic expression \n",
    "analytic_expr=s4bi.double_beta_dust_FGB_Model()\n",
    "\n",
    "betadown=1.\n",
    "betaup=2.\n",
    "beta1 = 1.54\n",
    "\n",
    "def sed(analytic_expr, nus, beta0, beta1, temp=20, hok=constants.h * 1e9 / constants.k, nubreak=200, nu0=100):\n",
    "    sed_expr = AnalyticComponent(analytic_expr, \n",
    "                             nu0=nu0, \n",
    "                             beta_d0=beta0, \n",
    "                             beta_d1=beta1, \n",
    "                             temp=temp,\n",
    "                             nubreak=nubreak, \n",
    "                             h_over_k = hok)\n",
    "    return nus, sed_expr.eval(nus)\n",
    "nus=np.linspace(10, 400, 200)\n",
    "nb=100\n",
    "nus, sed1b = sed(analytic_expr, nus, beta1, beta1, nubreak=nb)\n",
    "nus, sed2b_down = sed(analytic_expr, nus, betadown, beta1, nubreak=nb)\n",
    "nus, sed2b_up = sed(analytic_expr, nus, betaup, beta1, nubreak=nb)"
   ]
  },
  {
   "cell_type": "markdown",
   "id": "balanced-variation",
   "metadata": {},
   "source": [
    "We construct SED caracterize by twos scalar $\\beta$. We can now construct maps which follow those law."
   ]
  },
  {
   "cell_type": "code",
   "execution_count": 15,
   "id": "infectious-fraction",
   "metadata": {
    "scrolled": false
   },
   "outputs": [
    {
     "name": "stdout",
     "output_type": "stream",
     "text": [
      "    FWHM : [1. 1. 1. 1. 1. 1. 1. 1. 1.] deg \n",
      "    nus : [ 20.  30.  40.  85.  95. 145. 155. 220. 270.] GHz \n",
      "    Bandwidth : [ 5.   9.  12.  20.4 22.8 31.9 34.1 48.4 59.4] GHz\n",
      "\n",
      "\n",
      "Model : d0 -> Spectral index beta is constant on the sky (set to 1.54)\n",
      "Convolved to 1.00 deg\n",
      "Convolved to 1.00 deg\n",
      "Convolved to 1.00 deg\n",
      "Convolved to 1.00 deg\n",
      "Convolved to 1.00 deg\n",
      "Convolved to 1.00 deg\n",
      "Convolved to 1.00 deg\n",
      "Convolved to 1.00 deg\n",
      "Convolved to 1.00 deg\n"
     ]
    }
   ],
   "source": [
    "reload(qubicplus)\n",
    "\n",
    "dust_s4, dust_s4_noiseless, _  = qubicplus.BImaps({'dust':'d0'}, S4_dict).getskymaps(same_resol=1, \n",
    "                                                        iib=False, \n",
    "                                                        verbose=True, \n",
    "                                                        coverage=covmap, \n",
    "                                                        noise=True, \n",
    "                                                        signoise=1., \n",
    "                                                        beta=[])\n",
    "\n",
    "dust_s4_modified, dust_s4_modified_noiseless, _  = qubicplus.BImaps({'dust':'d02b'}, S4_dict).getskymaps(same_resol=1, \n",
    "                                                        iib=False, \n",
    "                                                        verbose=False, \n",
    "                                                        coverage=covmap, \n",
    "                                                        noise=True, \n",
    "                                                        signoise=1., \n",
    "                                                        beta=[1., 1.54, 100])\n",
    "\n",
    "cmbdust_s4_modified, cmbdust_s4_modified_noiseless, _  = qubicplus.BImaps({'cmb':42, 'dust':'d02b'}, S4_dict).getskymaps(same_resol=1, \n",
    "                                                        iib=False, \n",
    "                                                        verbose=False, \n",
    "                                                        coverage=covmap, \n",
    "                                                        noise=True, \n",
    "                                                        signoise=1., \n",
    "                                                        beta=[1., 1.54, 100])\n",
    "\n",
    "cmbdust_s4, cmbdust_s4_noiseless, _  = qubicplus.BImaps({'cmb':42, 'dust':'d0'}, S4_dict).getskymaps(same_resol=1, \n",
    "                                                        iib=False, \n",
    "                                                        verbose=False, \n",
    "                                                        coverage=covmap, \n",
    "                                                        noise=True, \n",
    "                                                        signoise=1., \n",
    "                                                        beta=[])\n"
   ]
  },
  {
   "cell_type": "code",
   "execution_count": 16,
   "id": "crazy-mileage",
   "metadata": {},
   "outputs": [
    {
     "data": {
      "image/png": "[encoded data removed]",
      "text/plain": [
       "<Figure size 864x720 with 1 Axes>"
      ]
     },
     "metadata": {
      "needs_background": "light"
     },
     "output_type": "display_data"
    }
   ],
   "source": [
    "thr = 0.1\n",
    "mymask = (covmap > (np.max(covmap)*thr)).astype(int)\n",
    "pixok = mymask > 0\n",
    "\n",
    "plt.figure(figsize=(12, 10))\n",
    "plt.loglog(nus, sed1b*3.5, '-b', label = r'd0 PySM model - $\\beta_0 = 1.54$')\n",
    "plt.loglog(nus, sed2b_up*3.5, '-g', label = r'Modified d0 PySM model - $\\beta_0 = 1.54$ and $\\beta^{up}_1 = 2$')\n",
    "plt.loglog(nus, sed2b_down*3.5, '-r', label = r'Modified d0 PySM model - $\\beta_0 = 1.54$ and $\\beta^{down}_1 = 1$')\n",
    "plt.scatter(S4_dict['frequency'], np.mean(dust_s4_noiseless[:, :, pixok], axis=2)[:, 0], color='blue', \n",
    "                        marker = 'o', label='From maps - d0 model')\n",
    "plt.scatter(S4_dict['frequency'], np.mean(dust_s4_modified_noiseless[:, :, pixok], axis=2)[:, 0], color='red', \n",
    "                        marker = 'x', label='From maps - Modified Dust model')\n",
    "\n",
    "plt.annotate(r'$\\beta^{up}_{1}$', fontsize = 20, xy=(12, 0.5), ha='center')\n",
    "plt.annotate(r'$\\beta_{0}$', fontsize = 20, xy=(12, 0.15), ha='center')\n",
    "plt.annotate(r'$\\beta^{down}_{1}$', fontsize = 20, xy=(17, 0.04), ha='center')\n",
    "plt.annotate(r'$\\beta_{0}$', fontsize = 20, xy=(200, 8), ha='center')\n",
    "\n",
    "plt.xlabel(r'$\\nu$ [GHz]', fontsize=20)\n",
    "plt.ylabel(r'SED', fontsize=20)\n",
    "plt.axvline(nb, ls='--', color='black', label=r'$\\nu_{break}$')\n",
    "plt.legend(fontsize=12)\n",
    "plt.grid(True)\n",
    "plt.show()"
   ]
  },
  {
   "cell_type": "code",
   "execution_count": 17,
   "id": "recognized-bolivia",
   "metadata": {},
   "outputs": [],
   "source": [
    "comp_modified = [Dust_2b(nu0=353, nubreak=100), CMB()]\n",
    "comp = [Dust(nu0=100), CMB()]\n",
    "\n",
    "# Define instrument\n",
    "instr = get_instrument('CMBS4')\n",
    "instr.fwhm = np.ones(9)*1*60"
   ]
  },
  {
   "cell_type": "code",
   "execution_count": 19,
   "id": "entitled-candle",
   "metadata": {},
   "outputs": [
    {
     "name": "stdout",
     "output_type": "stream",
     "text": [
      "   beta_d = 1.540264 T = 20.000004\n",
      "   beta_d0 = 1.002495 beta_d1 = 1.540673 T = 19.985920\n"
     ]
    }
   ],
   "source": [
    "#Component Separation\n",
    "\n",
    "r_s4_modified=separate(comp_modified, instr, cmbdust_s4_modified[:, :, pixok])\n",
    "r_s4=separate(comp, instr, cmbdust_s4[:, :, pixok])\n",
    "\n",
    "print(\"   beta_d = {:.6f} T = {:.6f}\".format(r_s4.x[0], r_s4.x[1]))\n",
    "print(\"   beta_d0 = {:.6f} beta_d1 = {:.6f} T = {:.6f}\".format(r_s4_modified.x[0], r_s4_modified.x[1], r_s4_modified.x[2]))"
   ]
  },
  {
   "cell_type": "markdown",
   "id": "productive-schedule",
   "metadata": {},
   "source": [
    "OK, for CMB_S4, it seems that we could recover all those parameters, let's check for the bolometric interferometry technology."
   ]
  },
  {
   "cell_type": "code",
   "execution_count": null,
   "id": "overall-oxide",
   "metadata": {
    "scrolled": true
   },
   "outputs": [],
   "source": [
    "reload(qubicplus)\n",
    "\n",
    "dust_bi, dust_bi_noiseless, _  = qubicplus.BImaps({'dust':'d0'}, BI_dict).getskymaps(same_resol=1, \n",
    "                                                        iib=False, \n",
    "                                                        verbose=False, \n",
    "                                                        coverage=covmap, \n",
    "                                                        noise=True, \n",
    "                                                        signoise=1., \n",
    "                                                        beta=[])\n",
    "\n",
    "dust_bi_modified, dust_bi_modified_noiseless, _  = qubicplus.BImaps({'dust':'d02b'}, BI_dict).getskymaps(same_resol=1, \n",
    "                                                        iib=False, \n",
    "                                                        verbose=False, \n",
    "                                                        coverage=covmap, \n",
    "                                                        noise=True, \n",
    "                                                        signoise=1., \n",
    "                                                        beta=[1., 1.54, 100])\n",
    "\n",
    "cmbdust_bi_modified, cmbdust_modified_noiseless, _  = qubicplus.BImaps({'cmb':42, 'dust':'d02b'}, BI_dict).getskymaps(same_resol=1, \n",
    "                                                        iib=False, \n",
    "                                                        verbose=False, \n",
    "                                                        coverage=covmap, \n",
    "                                                        noise=True, \n",
    "                                                        signoise=1., \n",
    "                                                        beta=[1., 1.54, 100])\n",
    "\n",
    "cmbdust_bi, cmbdust_noiseless, _  = qubicplus.BImaps({'cmb':42, 'dust':'d0'}, BI_dict).getskymaps(same_resol=1, \n",
    "                                                        iib=False, \n",
    "                                                        verbose=False, \n",
    "                                                        coverage=covmap, \n",
    "                                                        noise=True, \n",
    "                                                        signoise=1., \n",
    "                                                        beta=[1., 1.54, 100])"
   ]
  },
  {
   "cell_type": "code",
   "execution_count": null,
   "id": "disturbed-april",
   "metadata": {},
   "outputs": [],
   "source": [
    "thr = 0.1\n",
    "mymask = (covmap > (np.max(covmap)*thr)).astype(int)\n",
    "pixok = mymask > 0\n",
    "\n",
    "plt.figure(figsize=(12, 10))\n",
    "plt.loglog(nus, sed1b*3.5, '-b', label = r'd0 PySM model - $\\beta_0 = 1.54$')\n",
    "plt.loglog(nus, sed2b_up*3.5, '-g', label = r'Modified d0 PySM model - $\\beta_0 = 1.54$ and $\\beta^{up}_1 = 2$')\n",
    "plt.loglog(nus, sed2b_down*3.5, '-r', label = r'Modified d0 PySM model - $\\beta_0 = 1.54$ and $\\beta^{down}_1 = 1$')\n",
    "plt.scatter(BI_dict['frequency'], np.mean(dust_noiseless[:, :, pixok], axis=2)[:, 0], color='blue', \n",
    "                        marker = 'o', label='From maps - d0 model')\n",
    "plt.scatter(BI_dict['frequency'], np.mean(dust_modified_noiseless[:, :, pixok], axis=2)[:, 0], color='red', \n",
    "                        marker = 'x', label='From maps - Modified Dust model')\n",
    "\n",
    "plt.annotate(r'$\\beta^{up}_{1}$', fontsize = 20, xy=(12, 0.5), ha='center')\n",
    "plt.annotate(r'$\\beta_{0}$', fontsize = 20, xy=(12, 0.15), ha='center')\n",
    "plt.annotate(r'$\\beta^{down}_{1}$', fontsize = 20, xy=(17, 0.04), ha='center')\n",
    "plt.annotate(r'$\\beta_{0}$', fontsize = 20, xy=(200, 8), ha='center')\n",
    "\n",
    "plt.xlabel(r'$\\nu$ [GHz]', fontsize=20)\n",
    "plt.ylabel(r'SED', fontsize=20)\n",
    "plt.axvline(nb, ls='--', color='black', label=r'$\\nu_{break}$')\n",
    "plt.legend(fontsize=12)\n",
    "plt.grid(True)\n",
    "plt.show()"
   ]
  },
  {
   "cell_type": "code",
   "execution_count": null,
   "id": "prostate-network",
   "metadata": {},
   "outputs": [],
   "source": [
    "comp_modified = [Dust_2b(nu0=100, nubreak=100), CMB()]\n",
    "comp = [Dust(nu0=100), CMB()]\n",
    "\n",
    "thr = 0.1\n",
    "mymask = (covmap > (np.max(covmap)*thr)).astype(int)\n",
    "pixok = mymask > 0\n",
    "\n",
    "instr = get_instrument('Qubic+')\n",
    "instr.fwhm = np.ones(45)*1*60"
   ]
  },
  {
   "cell_type": "code",
   "execution_count": null,
   "id": "neither-nightlife",
   "metadata": {},
   "outputs": [],
   "source": [
    "r_bi_modified=separate(comp_modified, instr, cmbdust_bi_modified[:, :, pixok])\n",
    "r_bi=separate(comp, instr, cmbdust_bi[:, :, pixok])\n",
    "\n",
    "print(\"   beta_d = {:.6f} T = {:.6f}\".format(r_bi.x[0], r_bi.x[1]))\n",
    "print(\"   beta_d0 = {:.6f} beta_d1 = {:.6f} T = {:.6f}\".format(r_bi_modified.x[0], r_bi_modified.x[1], r_bi_modified.x[2]))"
   ]
  },
  {
   "cell_type": "code",
   "execution_count": null,
   "id": "cubic-footage",
   "metadata": {},
   "outputs": [],
   "source": [
    "\n"
   ]
  },
  {
   "cell_type": "code",
   "execution_count": null,
   "id": "verbal-stranger",
   "metadata": {},
   "outputs": [],
   "source": []
  },
  {
   "cell_type": "code",
   "execution_count": null,
   "id": "seven-overview",
   "metadata": {},
   "outputs": [],
   "source": []
  },
  {
   "cell_type": "code",
   "execution_count": null,
   "id": "polyphonic-pearl",
   "metadata": {},
   "outputs": [],
   "source": []
  },
  {
   "cell_type": "code",
   "execution_count": null,
   "id": "approximate-density",
   "metadata": {},
   "outputs": [],
   "source": []
  },
  {
   "cell_type": "code",
   "execution_count": null,
   "id": "flying-franchise",
   "metadata": {},
   "outputs": [],
   "source": []
  },
  {
   "cell_type": "code",
   "execution_count": null,
   "id": "composite-distance",
   "metadata": {},
   "outputs": [],
   "source": [
    "def scaling_factor(maps, nus, analytic_expr, beta0, beta1, nubreak):\n",
    "    nb_nus = maps.shape[0]\n",
    "    newmaps = np.zeros(maps.shape)\n",
    "    #print(sed1b)\n",
    "    for i in range(nb_nus):\n",
    "        _, sed1b = sed(analytic_expr, nus[i], beta1, beta1, nu0=nus[i], nubreak=nubreak)\n",
    "        _, sed2b = sed(analytic_expr, nus[i], beta0, beta1, nu0=nus[i], nubreak=nubreak)\n",
    "        print('nu is {} & Scaling factor is {:.8f}'.format(nus[i], sed2b))\n",
    "        newmaps[i] = maps[i] * sed2b\n",
    "    return newmaps, sed1b, sed2b\n",
    "\n",
    "thr = 0.1\n",
    "mymask = (covmap > (np.max(covmap)*thr)).astype(int)\n",
    "pixok = mymask > 0\n",
    "\n",
    "nb=100\n",
    "new_dustS4, _, _ = scaling_factor(dustS4, S4_dict['frequency'], analytic_expr, 0.5, 1.54, nubreak=nb)"
   ]
  },
  {
   "cell_type": "code",
   "execution_count": null,
   "id": "effective-johnson",
   "metadata": {},
   "outputs": [],
   "source": [
    "plt.figure(figsize=(12, 10))\n",
    "plt.scatter(S4_dict['frequency'], np.mean(dustS4[:, :, pixok], axis=2)[:, 0], label = 'd0 PySM model')\n",
    "plt.scatter(S4_dict['frequency'], np.mean(new_dustS4[:, :, pixok], axis=2)[:, 0], label = 'Modified d0 PySM model with twos betas')\n",
    "nus=np.linspace(1, 300, 200)\n",
    "#plt.loglog(nus, sed1b*18, label = 'd0 PySM model')\n",
    "#plt.loglog(nus, sed2b*(25), label = 'Modified d0 PySM model with twos betas')\n",
    "\n",
    "plt.xscale('log')\n",
    "plt.yscale('log')\n",
    "plt.grid(True)\n",
    "plt.xlabel(r'$\\nu$ [GHz]', fontsize=15)\n",
    "plt.ylabel(r'SED', fontsize=15)\n",
    "plt.xlim(10, 290)\n",
    "plt.axvline(nb, ls='--', color='black', label=r'$\\nu_{break}$')\n",
    "plt.legend(fontsize=15)\n",
    "plt.show()"
   ]
  },
  {
   "cell_type": "code",
   "execution_count": null,
   "id": "insured-luther",
   "metadata": {},
   "outputs": [],
   "source": [
    "comp = [Dust_2b(nu0=110, nubreak=nb)]\n",
    "\n",
    "instr = get_instrument('CMBS4')\n",
    "instr.fwhm = np.ones(9)*1*60\n",
    "r_s4_withoutiib=separate(comp, instr, new_dustS4[:, :, pixok])\n",
    "print(\"   \", r_s4_withoutiib.x)"
   ]
  },
  {
   "cell_type": "code",
   "execution_count": null,
   "id": "alternative-reservoir",
   "metadata": {
    "scrolled": true
   },
   "outputs": [],
   "source": [
    "# let's try with QUBIC+\n",
    "\n",
    "skyconfig = {'cmb':42}\n",
    "\n",
    "_, cmbBI, _ = qubicplus.QUBICplus(skyconfig, BI_dict).getskymaps(\n",
    "                                                        same_resol=1, \n",
    "                                                        iib=False, \n",
    "                                                        verbose=True, \n",
    "                                                        coverage=covmap, \n",
    "                                                        noise=True, \n",
    "                                                        signoise=1.)\n",
    "\n",
    "_, dustBI, _ = qubicplus.QUBICplus({}, BI_dict).getskymaps(\n",
    "                                                        same_resol=1, \n",
    "                                                        iib=False, \n",
    "                                                        verbose=True, \n",
    "                                                        coverage=covmap, \n",
    "                                                        noise=True, \n",
    "                                                        signoise=1., \n",
    "                                                        beta=[1., 1.54, 100])\n",
    "\n",
    "nb=100\n",
    "#new_dustBI, _, _ = scaling_factor(dustBI, BI_dict['frequency'], analytic_expr, 0.5, 1.54, nubreak=nb)\n",
    "\n",
    "plt.figure(figsize=(12, 10))\n",
    "plt.scatter(BI_dict['frequency'], np.mean(dustBI[:, :, pixok], axis=2)[:, 0], label = 'd0 PySM model')\n",
    "plt.scatter(BI_dict['frequency'], np.mean(new_dustBI[:, :, pixok], axis=2)[:, 0], label = 'Modified d0 PySM model with twos betas')\n",
    "nus=np.linspace(1, 300, 200)\n",
    "#plt.loglog(nus, sed1b*18, label = 'd0 PySM model')\n",
    "#plt.loglog(nus, sed2b*(25), label = 'Modified d0 PySM model with twos betas')\n",
    "\n",
    "plt.xscale('log')\n",
    "plt.yscale('log')\n",
    "plt.grid(True)\n",
    "plt.xlabel(r'$\\nu$ [GHz]', fontsize=15)\n",
    "plt.ylabel(r'SED', fontsize=15)\n",
    "plt.xlim(10, 290)\n",
    "plt.axvline(nb, ls='--', color='black', label=r'$\\nu_{break}$')\n",
    "plt.legend(fontsize=15)\n",
    "plt.show()"
   ]
  },
  {
   "cell_type": "code",
   "execution_count": null,
   "id": "solar-potential",
   "metadata": {},
   "outputs": [],
   "source": [
    "maps = cmbBI + dustBI"
   ]
  },
  {
   "cell_type": "code",
   "execution_count": null,
   "id": "ordinary-poverty",
   "metadata": {},
   "outputs": [],
   "source": [
    "comp = [Dust_2b(nu0=110, nubreak=nb), CMB()]\n",
    "\n",
    "instr = get_instrument('Qubic+')\n",
    "instr.fwhm = np.ones(45)*1*60\n",
    "r_bi_withoutiib=separate(comp, instr, maps[:, :, pixok])\n",
    "print(\"   \", r_bi_withoutiib.x)"
   ]
  },
  {
   "cell_type": "code",
   "execution_count": null,
   "id": "tight-nurse",
   "metadata": {
    "scrolled": true
   },
   "outputs": [],
   "source": [
    "reload(qubicplus)\n",
    "\n",
    "skyconfig = {'cmb':42}\n",
    "dustS4, dustS4_n, _ = qubicplus.QUBICplus(skyconfig, BI_dict).getskymaps(\n",
    "                                                        same_resol=0.1, \n",
    "                                                        iib=False, \n",
    "                                                        verbose=True, \n",
    "                                                        coverage=covmap, \n",
    "                                                        noise=True, \n",
    "                                                        signoise=1.,\n",
    "                                                        beta=[1., 1.54, 200])"
   ]
  },
  {
   "cell_type": "code",
   "execution_count": null,
   "id": "periodic-hygiene",
   "metadata": {},
   "outputs": [],
   "source": [
    "comp = [Dust_2b(nu0=100, temp=20., nubreak=200)]\n",
    "\n",
    "instr = get_instrument('Qubic+')\n",
    "instr.fwhm = np.ones(45)*1*60\n",
    "r_bi_withoutiib=separate(comp, instr, dustS4[:, :, pixok])\n",
    "print(\"   \", r_bi_withoutiib.x)"
   ]
  },
  {
   "cell_type": "code",
   "execution_count": null,
   "id": "tight-carbon",
   "metadata": {},
   "outputs": [],
   "source": [
    "r_bi_withoutiib.x[0]"
   ]
  },
  {
   "cell_type": "code",
   "execution_count": null,
   "id": "extra-paper",
   "metadata": {},
   "outputs": [],
   "source": []
  },
  {
   "cell_type": "code",
   "execution_count": null,
   "id": "transparent-finish",
   "metadata": {},
   "outputs": [],
   "source": []
  },
  {
   "cell_type": "code",
   "execution_count": null,
   "id": "solar-vermont",
   "metadata": {},
   "outputs": [],
   "source": []
  },
  {
   "cell_type": "code",
   "execution_count": null,
   "id": "elect-niger",
   "metadata": {},
   "outputs": [],
   "source": []
  },
  {
   "cell_type": "code",
   "execution_count": null,
   "id": "olympic-headline",
   "metadata": {},
   "outputs": [],
   "source": []
  }
 ],
 "metadata": {
  "kernelspec": {
   "display_name": "Python 3",
   "language": "python",
   "name": "python3"
  },
  "language_info": {
   "codemirror_mode": {
    "name": "ipython",
    "version": 3
   },
   "file_extension": ".py",
   "mimetype": "text/x-python",
   "name": "python",
   "nbconvert_exporter": "python",
   "pygments_lexer": "ipython3",
   "version": "3.8.5"
  }
 },
 "nbformat": 4,
 "nbformat_minor": 5
}
